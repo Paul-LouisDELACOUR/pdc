{
 "cells": [
  {
   "cell_type": "code",
   "execution_count": 1,
   "metadata": {},
   "outputs": [],
   "source": [
    "import numpy as np\n",
    "import math \n",
    "import bitarray\n",
    "from math import *\n",
    "from matplotlib import pyplot as plt"
   ]
  },
  {
   "cell_type": "code",
   "execution_count": 2,
   "metadata": {},
   "outputs": [],
   "source": [
    "## shift : the amount on which the basis function is shifted by\n",
    "## number : the number of the basis function start at 0\n",
    "##number = t\n",
    "T = 1 ##The lenght of the basis function\n",
    "value = 1/math.sqrt(T) ## The height of the function considering it is a rect\n",
    "\n",
    "f_s = 22050\n",
    "T_s = 1/f_s\n",
    "sigma = 0.05\n",
    "\n",
    "\n",
    "#x the basis number\n",
    "def basis(x,t):\n",
    "    if x >T and x<=(1+T) : \n",
    "        return value\n",
    "    \n",
    "def r(t) :\n",
    "    return sinc(t)\n",
    "\n",
    "def basis_rect(t) :\n",
    "    return "
   ]
  },
  {
   "cell_type": "code",
   "execution_count": 3,
   "metadata": {},
   "outputs": [],
   "source": [
    "def fourier_transform(x, start, end):\n",
    "    nb_coef = end - start\n",
    "    result = np.zeros(nb_coef)\n",
    "    n = np.arange(x.shape[0])\n",
    "    for f in np.arange(start, end):\n",
    "        result[f - start] = np.abs(np.sum(x/f_s * np.exp(-2*1j*pi* f * (n/f_s))))\n",
    "    \n",
    "    return result"
   ]
  },
  {
   "cell_type": "code",
   "execution_count": 4,
   "metadata": {},
   "outputs": [],
   "source": [
    "#pss_array = pss()\n",
    "#plt.plot(fourier_transform(pss_array, -4000, 4000))"
   ]
  },
  {
   "cell_type": "code",
   "execution_count": 5,
   "metadata": {},
   "outputs": [],
   "source": [
    "B = 0.8\n",
    "T = 2\n",
    "\n",
    "def root_raised_cos(t):\n",
    "    return 4*B / (pi*sqrt(T)) * (cos((1+B)*pi*t/T) + (1-B)*pi/(4*B)*np.sinc((1-B)*t/T))/ (1 - (4*B*t/T)**2)"
   ]
  },
  {
   "cell_type": "code",
   "execution_count": 6,
   "metadata": {},
   "outputs": [],
   "source": [
    "def root_raised_cos_v2(t, T):\n",
    "    if t == np.abs(T/(4*B)) : \n",
    "        return B/(pi*sqrt(2*T)) * ((pi + 2)*np.sin(pi/(4*B)) + (pi - 2)*cos(pi/(4*B)))\n",
    "    else :\n",
    "        return 4*B / (pi*sqrt(T)) * (cos((1+B)*pi*t/T) + (1-B)*pi/(4*B)*np.sinc((1-B)*t/T))/ (1 - (4*B*t/T)**2)"
   ]
  },
  {
   "cell_type": "code",
   "execution_count": 7,
   "metadata": {},
   "outputs": [],
   "source": [
    "root_raised = np.vectorize(root_raised_cos_v2)"
   ]
  },
  {
   "cell_type": "code",
   "execution_count": 8,
   "metadata": {},
   "outputs": [],
   "source": [
    "#Working : 50*T_s and -500, 501"
   ]
  },
  {
   "cell_type": "code",
   "execution_count": 315,
   "metadata": {},
   "outputs": [],
   "source": [
    "nb_samples_root_raised = 200\n",
    "n_T = 10 # number of samples to get to T in the root raised cosinus n_t = T/Ts\n",
    "n = nb_samples_root_raised//2\n",
    "t_s = np.arange(-n, n)/f_s\n",
    "root_raised_12_Ts = root_raised(t_s, n_T*T_s)\n",
    "root_raised_12_Ts_rescaled = root_raised_12_Ts/(np.max(root_raised_12_Ts)*3/2)\n",
    "\n",
    "root_raised_12_Ts_rescaled = root_raised_12_Ts_rescaled"
   ]
  },
  {
   "cell_type": "code",
   "execution_count": 10,
   "metadata": {},
   "outputs": [
    {
     "data": {
      "text/plain": [
       "[<matplotlib.lines.Line2D at 0x11f3a3e80>]"
      ]
     },
     "execution_count": 10,
     "metadata": {},
     "output_type": "execute_result"
    },
    {
     "data": {
      "image/png": "[encoded data removed]",
      "text/plain": [
       "<Figure size 432x288 with 1 Axes>"
      ]
     },
     "metadata": {
      "needs_background": "light"
     },
     "output_type": "display_data"
    }
   ],
   "source": [
    "plt.plot(root_raised_12_Ts_rescaled)"
   ]
  },
  {
   "cell_type": "code",
   "execution_count": 11,
   "metadata": {},
   "outputs": [],
   "source": [
    "basis_2 = root_raised_12_Ts_rescaled"
   ]
  },
  {
   "cell_type": "code",
   "execution_count": 12,
   "metadata": {},
   "outputs": [
    {
     "data": {
      "text/plain": [
       "[<matplotlib.lines.Line2D at 0x11f45aeb8>]"
      ]
     },
     "execution_count": 12,
     "metadata": {},
     "output_type": "execute_result"
    },
    {
     "data": {
      "image/png": "[encoded data removed]",
      "text/plain": [
       "<Figure size 432x288 with 1 Axes>"
      ]
     },
     "metadata": {
      "needs_background": "light"
     },
     "output_type": "display_data"
    }
   ],
   "source": [
    "plt.plot(fourier_transform(basis_2, -4000, 4000))"
   ]
  },
  {
   "cell_type": "code",
   "execution_count": 13,
   "metadata": {},
   "outputs": [],
   "source": [
    "def text_to_bit(text):\n",
    "    ba = bitarray.bitarray()\n",
    "    ba.frombytes(text.encode('utf-8'))\n",
    "    ba = np.fromiter(map(lambda x : 1 if x else 0, ba.tolist()), dtype = int)\n",
    "    return ba"
   ]
  },
  {
   "cell_type": "code",
   "execution_count": 401,
   "metadata": {},
   "outputs": [],
   "source": [
    "def bit_to_text(bit):\n",
    "    ba = bitarray.bitarray(bit.tolist())\n",
    "    r = ba.tobytes()\n",
    "    return str(r,'utf-8')"
   ]
  },
  {
   "cell_type": "code",
   "execution_count": 402,
   "metadata": {},
   "outputs": [],
   "source": [
    "#right now convert (0,1) array to (-1 , 1) array\n",
    "def b_to_c(array):\n",
    "    c_s = (array -1/2)*2\n",
    "    return c_s"
   ]
  },
  {
   "cell_type": "code",
   "execution_count": 403,
   "metadata": {},
   "outputs": [],
   "source": [
    "def b_to_c(a):\n",
    "    a = (a -1/2)*2\n",
    "    real = np.array([a[2*i] for i in range(len(a)//2) ])\n",
    "    im = np.array([1j*a[2*i+1] for i in range(len(a)//2)])\n",
    "    \n",
    "    return real + im"
   ]
  },
  {
   "cell_type": "code",
   "execution_count": 404,
   "metadata": {},
   "outputs": [
    {
     "name": "stdout",
     "output_type": "stream",
     "text": [
      "[-1.-1.j  1.+1.j -1.-1.j  1.-1.j  1.-1.j  1.+1.j]\n"
     ]
    }
   ],
   "source": [
    "r = b_to_c(np.array([0,0,1,1, 0, 0, 1, 0, 1, 0, 1, 1]))\n",
    "print(r)"
   ]
  },
  {
   "cell_type": "code",
   "execution_count": 405,
   "metadata": {},
   "outputs": [],
   "source": [
    "def c_to_b(a):\n",
    "    r = np.zeros(len(a)*2)\n",
    "    real = np.real(a)\n",
    "    im = np.imag(a)\n",
    "    for i in range (2*len(a)):\n",
    "        if(i%2 == 0):\n",
    "            r[i] = real[i//2]\n",
    "        else : \n",
    "            r[i] = im[(i-1)//2]\n",
    "            \n",
    "    return r"
   ]
  },
  {
   "cell_type": "code",
   "execution_count": 406,
   "metadata": {},
   "outputs": [
    {
     "name": "stdout",
     "output_type": "stream",
     "text": [
      "[-1. -1.  1.  1. -1. -1.  1. -1.  1. -1.  1.  1.]\n"
     ]
    }
   ],
   "source": [
    "a= c_to_b(r)\n",
    "print(a)"
   ]
  },
  {
   "cell_type": "code",
   "execution_count": 407,
   "metadata": {},
   "outputs": [],
   "source": [
    "##### Design a transmitter that reads a text file and returns real-valued samples of an\n",
    "#information-bearing signal s[n].\n",
    "#arg text_file : an array of sended values\n",
    "const_size = 2\n",
    "def transmitter(text_file, basis_size):\n",
    "    size = text_file.shape[0]\n",
    "    result = np.zeros(size*basis_size)\n",
    "    for i in range(size):\n",
    "        result[basis_size*i:basis_size*(i+1)] = text_file[i]*basis_2\n",
    "    return result"
   ]
  },
  {
   "cell_type": "code",
   "execution_count": 408,
   "metadata": {},
   "outputs": [
    {
     "data": {
      "text/plain": [
       "'\\ndef transmitter_2_bits(text_file, basis_size):\\n    size = text_file.shape[0]\\n    result = np.zeros(size//2*basis_size)\\n    for i in range(size//2):\\n        if text_file[2*i] == 1 and text_file[2*i+1] == 1:\\n            res = basis_2\\n        elif text_file[2*i] == 1 and text_file[2*i+1] == 0:\\n            res = 0.333*basis_2\\n        elif text_file[2*i] == 0 and text_file[2*i+1] == 1:\\n            res = -0.333*basis_2\\n        else:\\n            res = -basis_2\\n        result[basis_size*i:basis_size*(i+1)] = res\\n    return result\\n'"
      ]
     },
     "execution_count": 408,
     "metadata": {},
     "output_type": "execute_result"
    }
   ],
   "source": [
    "'''\n",
    "def transmitter_2_bits(text_file, basis_size):\n",
    "    size = text_file.shape[0]\n",
    "    result = np.zeros(size//2*basis_size)\n",
    "    for i in range(size//2):\n",
    "        if text_file[2*i] == 1 and text_file[2*i+1] == 1:\n",
    "            res = basis_2\n",
    "        elif text_file[2*i] == 1 and text_file[2*i+1] == 0:\n",
    "            res = 0.333*basis_2\n",
    "        elif text_file[2*i] == 0 and text_file[2*i+1] == 1:\n",
    "            res = -0.333*basis_2\n",
    "        else:\n",
    "            res = -basis_2\n",
    "        result[basis_size*i:basis_size*(i+1)] = res\n",
    "    return result\n",
    "'''"
   ]
  },
  {
   "cell_type": "code",
   "execution_count": 409,
   "metadata": {},
   "outputs": [],
   "source": [
    "def transmitter_2(text_file):\n",
    "    text_size = text_file.shape[0]\n",
    "    result = 0j*np.zeros(nb_samples_root_raised + n_T * (text_size -1))\n",
    "    #result+=\n",
    "    for i in range(text_size) :\n",
    "        #print(text_file[i]*root_raised_12_Ts_rescaled)\n",
    "        result[n_T*i : nb_samples_root_raised + n_T*i] += text_file[i]*root_raised_12_Ts_rescaled\n",
    "    return result\n",
    "    "
   ]
  },
  {
   "cell_type": "code",
   "execution_count": 410,
   "metadata": {},
   "outputs": [],
   "source": [
    "def create_random(size):\n",
    "    random_text =  np.sign(np.random.rand(size) -0.5)\n",
    "    result = np.zeros(nb_samples_root_raised *size)\n",
    "    for i in range(size) : \n",
    "        result[nb_samples_root_raised*i:nb_samples_root_raised*(i+1)] = root_raised_12_Ts_rescaled * random_text[i]\n",
    "    return result        "
   ]
  },
  {
   "cell_type": "code",
   "execution_count": 411,
   "metadata": {},
   "outputs": [],
   "source": [
    "def create_random(size):\n",
    "    random_text =  np.sign(np.random.rand(size) -0.5)\n",
    "    \n",
    "    return random_text"
   ]
  },
  {
   "cell_type": "code",
   "execution_count": 412,
   "metadata": {},
   "outputs": [],
   "source": [
    "def low_pass(arr, f_0):\n",
    "    T = 2*f_0\n",
    "    t = np.arange(-200,200)/f_s\n",
    "    sinc = T * np.sinc(T*t)\n",
    "    \n",
    "    return np.convolve(arr/f_s, sinc, mode = 'same')"
   ]
  },
  {
   "cell_type": "code",
   "execution_count": 413,
   "metadata": {},
   "outputs": [],
   "source": [
    "def low_pass_2(arr, f_0):\n",
    "    return np.convolve(rand_a, root_raised_12_Ts_rescaled, mode = 'same')"
   ]
  },
  {
   "cell_type": "code",
   "execution_count": 414,
   "metadata": {},
   "outputs": [],
   "source": [
    "#plt.plot(fourier_transform(low_pass(rand_a, 1000), -5000, 5000))"
   ]
  },
  {
   "cell_type": "code",
   "execution_count": 415,
   "metadata": {},
   "outputs": [],
   "source": [
    "rand_a = np.random.randn(1000)"
   ]
  },
  {
   "cell_type": "code",
   "execution_count": 416,
   "metadata": {},
   "outputs": [],
   "source": [
    "def shift(arr, f_0):\n",
    "    indices = np.arange(arr.shape[0])\n",
    "    return (arr * np.sqrt(2) * np.exp(1j * 2 * pi * f_0 * indices/f_s))/np.sqrt(2)"
   ]
  },
  {
   "cell_type": "code",
   "execution_count": 417,
   "metadata": {},
   "outputs": [
    {
     "name": "stderr",
     "output_type": "stream",
     "text": [
      "/Users/pldelacour/anaconda3/lib/python3.7/site-packages/numpy/core/numeric.py:501: ComplexWarning: Casting complex values to real discards the imaginary part\n",
      "  return array(a, dtype, copy=False, order=order)\n"
     ]
    },
    {
     "data": {
      "image/png": "[encoded data removed]",
      "text/plain": [
       "<Figure size 432x288 with 1 Axes>"
      ]
     },
     "metadata": {
      "needs_background": "light"
     },
     "output_type": "display_data"
    }
   ],
   "source": [
    "string_text = \"Yw2gOypSJt70AcKgxH9v1QCSz4U9pjIWpdipde0H5xYcEm01JWGr7K1H5ll0eTCgYt4gv0AofyjrdYSzHncY7agwuYt5f7NuEnYjfvDzRPYHemNK4j2RhSuUn3jRCsOjr3Bur98qkYsaMxouGkHLsc6Nse4wc7pp\"\n",
    "random_size = int(50*len(string_text)/100)\n",
    "start_random = create_random(8*random_size)\n",
    "end_random = create_random(8*random_size)\n",
    "constellation = b_to_c(text_to_bit(string_text))\n",
    "size_sent = len(constellation)\n",
    "\n",
    "#print(constellation)\n",
    "#constellation = np.concatenate( (start_random, constellation, end_random) , axis = 0)\n",
    "a_transmitted = transmitter_2(constellation)\n",
    "\n",
    "#print(a_transmitted)\n",
    "\n",
    "#a_transmitted = np.concatenate( (start_random,a_transmitted, end_random), axis = 0)\n",
    "start_transmitted = transmitter_2(start_random)\n",
    "end_transmitted = transmitter_2(end_random)\n",
    "message_transmitted = np.concatenate((start_transmitted, a_transmitted, end_transmitted))\n",
    "plt.plot(message_transmitted)\n",
    "convolution_start = np.correlate(message_transmitted,start_transmitted , mode = 'valid')\n",
    "convolution_end = np.correlate(message_transmitted,end_transmitted , mode = 'valid')\n",
    "max_before_channel = np.max(convolution_start)\n",
    "\n",
    "f_1= 3000 # first value to shift\n",
    "f_2 = 7000 # second value to shift \n",
    "message_transmitted_shifted_f1 = shift(message_transmitted,f_1)\n",
    "message_transmitted_shifted_f2 = shift(message_transmitted, f_2)\n",
    "start_transmitted_f1 = message_transmitted_shifted_f1[:len(start_transmitted)]\n",
    "end_transmitted_f1 = message_transmitted_shifted_f1[-len(end_transmitted):]\n",
    "start_transmitted_f2 = message_transmitted_shifted_f2[:len(start_transmitted)]\n",
    "end_transmitted_f2 = message_transmitted_shifted_f2[-len(end_transmitted):]\n",
    "\n",
    "message_transmitted = (message_transmitted_shifted_f1 + message_transmitted_shifted_f2)\n",
    "message_transmitted = np.real(message_transmitted)"
   ]
  },
  {
   "cell_type": "code",
   "execution_count": 418,
   "metadata": {},
   "outputs": [
    {
     "data": {
      "text/plain": [
       "[<matplotlib.lines.Line2D at 0x128fe7c18>]"
      ]
     },
     "execution_count": 418,
     "metadata": {},
     "output_type": "execute_result"
    },
    {
     "data": {
      "image/png": "[encoded data removed]",
      "text/plain": [
       "<Figure size 432x288 with 1 Axes>"
      ]
     },
     "metadata": {
      "needs_background": "light"
     },
     "output_type": "display_data"
    }
   ],
   "source": [
    "plt.plot(fourier_transform((message_transmitted_shifted_f1 + message_transmitted_shifted_f2), 1000, 9000))"
   ]
  },
  {
   "cell_type": "code",
   "execution_count": 419,
   "metadata": {},
   "outputs": [
    {
     "name": "stdout",
     "output_type": "stream",
     "text": [
      "(6590,)\n",
      "(6590,)\n",
      "6590 13180\n"
     ]
    }
   ],
   "source": [
    "start = np.argmax(convolution_start)+len(start_transmitted)\n",
    "end = np.argmax(convolution_end)\n",
    "#print(end-start)\n",
    "print(a_transmitted.shape)\n",
    "print(message_transmitted[start:end].shape)\n",
    "print(start, end)\n",
    "#plt.plot(convolution_start[100:250][60:80])"
   ]
  },
  {
   "cell_type": "code",
   "execution_count": 420,
   "metadata": {},
   "outputs": [],
   "source": [
    "output = np.convolve(shift(root_raised_12_Ts_rescaled, 3000), message_transmitted)"
   ]
  },
  {
   "cell_type": "code",
   "execution_count": 421,
   "metadata": {
    "scrolled": true
   },
   "outputs": [],
   "source": [
    "start = np.argmax(np.correlate(output, start_transmitted_f1)) + len(start_transmitted_f1)\n",
    "end = np.argmax(np.correlate(output, end_transmitted_f1))\n",
    "output_truncated =  low_pass(shift(output[start:end], -f_1), 2000)\n"
   ]
  },
  {
   "cell_type": "code",
   "execution_count": 422,
   "metadata": {},
   "outputs": [
    {
     "name": "stdout",
     "output_type": "stream",
     "text": [
      "(1690,)\n",
      "1690\n",
      "150\n",
      "[1.+1.j 1.+1.j 1.+1.j 1.+1.j 1.+1.j 1.+1.j 1.+1.j 1.+1.j 1.+1.j 1.+1.j\n",
      " 1.+1.j 1.+1.j 1.+1.j 1.+1.j 1.+1.j 1.+1.j 1.+1.j 1.+1.j 1.+1.j 1.+1.j\n",
      " 1.+1.j 1.+1.j 1.+1.j 1.+1.j 1.+1.j 1.+1.j 1.+1.j 1.+1.j 1.+1.j 1.+1.j\n",
      " 1.+1.j 1.+1.j 1.+1.j 1.+1.j 1.+1.j 1.+1.j 1.+1.j 1.+1.j 1.+1.j 1.+1.j\n",
      " 1.+1.j 1.+1.j 1.+1.j 1.+1.j 1.+1.j 1.+1.j 1.+1.j 1.+1.j 1.+1.j 1.+1.j\n",
      " 1.+1.j 1.+1.j 1.+1.j 1.+1.j 1.+1.j 1.+1.j 1.+1.j 1.+1.j 1.+1.j 1.+1.j\n",
      " 1.+1.j 1.+1.j 1.+1.j 1.+1.j 1.+1.j 1.+1.j 1.+1.j 1.+1.j 1.+1.j 1.+1.j\n",
      " 1.+1.j 1.+1.j 1.+1.j 1.+1.j 1.+1.j 1.+1.j 1.+1.j 1.+1.j 1.+1.j 1.+1.j\n",
      " 1.+1.j 1.+1.j 1.+1.j 1.+1.j 1.+1.j 1.+1.j 1.+1.j 1.+1.j 1.+1.j 1.+1.j\n",
      " 1.+1.j 1.+1.j 1.+1.j 1.+1.j 1.+1.j 1.+1.j 1.+1.j 1.+1.j 1.+1.j 1.+1.j\n",
      " 1.+1.j 1.+1.j 1.+1.j 1.+1.j 1.+1.j 1.+1.j 1.+1.j 1.+1.j 1.+1.j 1.+1.j\n",
      " 1.+1.j 1.+1.j 1.+1.j 1.+1.j 1.+1.j 1.+1.j 1.+1.j 1.+1.j 1.+1.j 1.+1.j\n",
      " 1.+1.j 1.+1.j 1.+1.j 1.+1.j 1.+1.j 1.+1.j 1.+1.j 1.+1.j 1.+1.j 1.+1.j\n",
      " 1.+1.j 1.+1.j 1.+1.j 1.+1.j 1.+1.j 1.+1.j 1.+1.j 1.+1.j 1.+1.j 1.+1.j\n",
      " 1.+1.j 1.+1.j 1.+1.j 1.+1.j 1.+1.j 1.+1.j 1.+1.j 1.+1.j 1.+1.j 1.+1.j]\n",
      "[1. 1. 1. 1. 1. 1. 1. 1. 1. 1. 1. 1. 1. 1. 1. 1. 1. 1. 1. 1. 1. 1. 1. 1.\n",
      " 1. 1. 1. 1. 1. 1. 1. 1. 1. 1. 1. 1. 1. 1. 1. 1. 1. 1. 1. 1. 1. 1. 1. 1.\n",
      " 1. 1. 1. 1. 1. 1. 1. 1. 1. 1. 1. 1. 1. 1. 1. 1. 1. 1. 1. 1. 1. 1. 1. 1.\n",
      " 1. 1. 1. 1. 1. 1. 1. 1. 1. 1. 1. 1. 1. 1. 1. 1. 1. 1. 1. 1. 1. 1. 1. 1.\n",
      " 1. 1. 1. 1. 1. 1. 1. 1. 1. 1. 1. 1. 1. 1. 1. 1. 1. 1. 1. 1. 1. 1. 1. 1.\n",
      " 1. 1. 1. 1. 1. 1. 1. 1. 1. 1. 1. 1. 1. 1. 1. 1. 1. 1. 1. 1. 1. 1. 1. 1.\n",
      " 1. 1. 1. 1. 1. 1. 1. 1. 1. 1. 1. 1. 1. 1. 1. 1. 1. 1. 1. 1. 1. 1. 1. 1.\n",
      " 1. 1. 1. 1. 1. 1. 1. 1. 1. 1. 1. 1. 1. 1. 1. 1. 1. 1. 1. 1. 1. 1. 1. 1.\n",
      " 1. 1. 1. 1. 1. 1. 1. 1. 1. 1. 1. 1. 1. 1. 1. 1. 1. 1. 1. 1. 1. 1. 1. 1.\n",
      " 1. 1. 1. 1. 1. 1. 1. 1. 1. 1. 1. 1. 1. 1. 1. 1. 1. 1. 1. 1. 1. 1. 1. 1.\n",
      " 1. 1. 1. 1. 1. 1. 1. 1. 1. 1. 1. 1. 1. 1. 1. 1. 1. 1. 1. 1. 1. 1. 1. 1.\n",
      " 1. 1. 1. 1. 1. 1. 1. 1. 1. 1. 1. 1. 1. 1. 1. 1. 1. 1. 1. 1. 1. 1. 1. 1.\n",
      " 1. 1. 1. 1. 1. 1. 1. 1. 1. 1. 1. 1.]\n",
      "3190\n"
     ]
    }
   ],
   "source": [
    "c  = c_to_b(transmitter_2(b_to_c(text_to_bit('a')))) \n",
    "b = b_to_c(np.ones(300))\n",
    "#print(b)\n",
    "b = transmitter_2(b)\n",
    "print(b.shape)\n",
    "b = np.real(shift(b,3000))\n",
    "b = low_pass(shift(b,-3000),2000)\n",
    "#print(b)\n",
    "b = decode_2_q(b)\n",
    "print(b)\n",
    "b = c_to_b(b)\n",
    "print(b)\n",
    "#b = bit_to_text(b)\n",
    "\n",
    "t = transmitter_2(b)\n",
    "print(len(t))\n",
    "#print((c.shape[0]-200)/n_T)\n",
    "#print(text_to_bit('a'))"
   ]
  },
  {
   "cell_type": "code",
   "execution_count": 423,
   "metadata": {},
   "outputs": [],
   "source": [
    "c= 1 +1j\n"
   ]
  },
  {
   "cell_type": "code",
   "execution_count": 424,
   "metadata": {},
   "outputs": [
    {
     "name": "stdout",
     "output_type": "stream",
     "text": [
      "6590\n"
     ]
    }
   ],
   "source": [
    "print(end-start)"
   ]
  },
  {
   "cell_type": "code",
   "execution_count": 425,
   "metadata": {},
   "outputs": [],
   "source": [
    "np.savetxt('input.txt', message_transmitted)"
   ]
  },
  {
   "cell_type": "code",
   "execution_count": 426,
   "metadata": {},
   "outputs": [],
   "source": [
    "!python3 client.py --input_file='input.txt' --output_file='output.txt' --srv_hostname=iscsrv72.epfl.ch --srv_port=80"
   ]
  },
  {
   "cell_type": "code",
   "execution_count": 427,
   "metadata": {},
   "outputs": [],
   "source": [
    "output = np.loadtxt('output.txt')\n",
    "#output = message_transmitted"
   ]
  },
  {
   "cell_type": "code",
   "execution_count": 428,
   "metadata": {},
   "outputs": [],
   "source": [
    "f_trans = fourier_transform(output,1000,9000)"
   ]
  },
  {
   "cell_type": "code",
   "execution_count": 429,
   "metadata": {},
   "outputs": [
    {
     "name": "stdout",
     "output_type": "stream",
     "text": [
      "Part 2 has fallen\n"
     ]
    }
   ],
   "source": [
    "norm_1 = np.linalg.norm(f_trans[:2000])\n",
    "norm_2 = np.linalg.norm(f_trans[2000:4000])\n",
    "norm_3 = np.linalg.norm(f_trans[4000:6000])\n",
    "norm_4 = np.linalg.norm(f_trans[6000:8000])\n",
    "fallen_index = np.argmin(np.array([norm_1, norm_2, norm_3, norm_4]))\n",
    "\n",
    "#######\n",
    "#fallen_index = 2\n",
    "######\n",
    "\n",
    "print(\"Part {} has fallen\".format(fallen_index +1 ))"
   ]
  },
  {
   "cell_type": "code",
   "execution_count": 435,
   "metadata": {},
   "outputs": [
    {
     "name": "stdout",
     "output_type": "stream",
     "text": [
      "6590\n",
      "640\n",
      "[1. 1. 1. 1. 0. 0. 1. 1.]\n",
      "[0 1 0 1 1 0 0 1]\n"
     ]
    },
    {
     "ename": "UnicodeDecodeError",
     "evalue": "'utf-8' codec can't decode byte 0xf3 in position 0: unexpected end of data",
     "output_type": "error",
     "traceback": [
      "\u001b[0;31m---------------------------------------------------------------------------\u001b[0m",
      "\u001b[0;31mUnicodeDecodeError\u001b[0m                        Traceback (most recent call last)",
      "\u001b[0;32m<ipython-input-435-71d4d6c75b35>\u001b[0m in \u001b[0;36m<module>\u001b[0;34m\u001b[0m\n\u001b[1;32m     20\u001b[0m \u001b[0mprint\u001b[0m\u001b[0;34m(\u001b[0m\u001b[0ma\u001b[0m\u001b[0;34m[\u001b[0m\u001b[0;34m:\u001b[0m\u001b[0;36m8\u001b[0m\u001b[0;34m]\u001b[0m\u001b[0;34m)\u001b[0m\u001b[0;34m\u001b[0m\u001b[0;34m\u001b[0m\u001b[0m\n\u001b[1;32m     21\u001b[0m \u001b[0mprint\u001b[0m\u001b[0;34m(\u001b[0m\u001b[0mtext_to_bit\u001b[0m\u001b[0;34m(\u001b[0m\u001b[0mstring_text\u001b[0m\u001b[0;34m)\u001b[0m\u001b[0;34m[\u001b[0m\u001b[0;34m:\u001b[0m\u001b[0;36m8\u001b[0m\u001b[0;34m]\u001b[0m\u001b[0;34m)\u001b[0m\u001b[0;34m\u001b[0m\u001b[0;34m\u001b[0m\u001b[0m\n\u001b[0;32m---> 22\u001b[0;31m \u001b[0ma\u001b[0m \u001b[0;34m=\u001b[0m \u001b[0mbit_to_text\u001b[0m\u001b[0;34m(\u001b[0m\u001b[0ma\u001b[0m\u001b[0;34m[\u001b[0m\u001b[0;34m:\u001b[0m\u001b[0;36m8\u001b[0m\u001b[0;34m]\u001b[0m\u001b[0;34m)\u001b[0m\u001b[0;34m\u001b[0m\u001b[0;34m\u001b[0m\u001b[0m\n\u001b[0m\u001b[1;32m     23\u001b[0m \u001b[0mprint\u001b[0m\u001b[0;34m(\u001b[0m\u001b[0ma\u001b[0m \u001b[0;34m==\u001b[0m \u001b[0mstring_text\u001b[0m\u001b[0;34m)\u001b[0m\u001b[0;34m\u001b[0m\u001b[0;34m\u001b[0m\u001b[0m\n\u001b[1;32m     24\u001b[0m \u001b[0mprint\u001b[0m\u001b[0;34m(\u001b[0m\u001b[0ma\u001b[0m\u001b[0;34m)\u001b[0m\u001b[0;34m\u001b[0m\u001b[0;34m\u001b[0m\u001b[0m\n",
      "\u001b[0;32m<ipython-input-401-29a7265e09e0>\u001b[0m in \u001b[0;36mbit_to_text\u001b[0;34m(bit)\u001b[0m\n\u001b[1;32m      2\u001b[0m     \u001b[0mba\u001b[0m \u001b[0;34m=\u001b[0m \u001b[0mbitarray\u001b[0m\u001b[0;34m.\u001b[0m\u001b[0mbitarray\u001b[0m\u001b[0;34m(\u001b[0m\u001b[0mbit\u001b[0m\u001b[0;34m.\u001b[0m\u001b[0mtolist\u001b[0m\u001b[0;34m(\u001b[0m\u001b[0;34m)\u001b[0m\u001b[0;34m)\u001b[0m\u001b[0;34m\u001b[0m\u001b[0;34m\u001b[0m\u001b[0m\n\u001b[1;32m      3\u001b[0m     \u001b[0mr\u001b[0m \u001b[0;34m=\u001b[0m \u001b[0mba\u001b[0m\u001b[0;34m.\u001b[0m\u001b[0mtobytes\u001b[0m\u001b[0;34m(\u001b[0m\u001b[0;34m)\u001b[0m\u001b[0;34m\u001b[0m\u001b[0;34m\u001b[0m\u001b[0m\n\u001b[0;32m----> 4\u001b[0;31m     \u001b[0;32mreturn\u001b[0m \u001b[0mstr\u001b[0m\u001b[0;34m(\u001b[0m\u001b[0mr\u001b[0m\u001b[0;34m,\u001b[0m\u001b[0;34m'utf-8'\u001b[0m\u001b[0;34m)\u001b[0m\u001b[0;34m\u001b[0m\u001b[0;34m\u001b[0m\u001b[0m\n\u001b[0m",
      "\u001b[0;31mUnicodeDecodeError\u001b[0m: 'utf-8' codec can't decode byte 0xf3 in position 0: unexpected end of data"
     ]
    }
   ],
   "source": [
    "if fallen_index < 2:\n",
    "    output = np.convolve(shift(root_raised_12_Ts_rescaled, 7000), message_transmitted)\n",
    "    start = np.argmax(np.correlate(output, start_transmitted_f2)) + len(start_transmitted_f1)\n",
    "    end = np.argmax(np.correlate(output, end_transmitted_f2))\n",
    "    #output_truncated = np.real(low_pass(shift(output[start:end], -f_2), 2000))\n",
    "    output_truncated = low_pass(shift(output[start:end], -f_2), 2000)\n",
    "    \n",
    "else :\n",
    "    output = np.convolve(shift(root_raised_12_Ts_rescaled, 3000), message_transmitted)\n",
    "    start = np.argmax(np.correlate(output, start_transmitted_f1)) + len(start_transmitted_f1)\n",
    "    end = np.argmax(np.correlate(output, end_transmitted_f1))\n",
    "    #output_truncated = np.real(low_pass(shift(output[start:end], -f_1), 2000))\n",
    "    output_truncated = low_pass(shift(output[start:end], -f_1), 2000)\n",
    "    \n",
    "a = decode_2_qam(-output_truncated)\n",
    "#print(a)\n",
    "a = c_to_b(a)\n",
    "a = (a+1)/2\n",
    "a =a\n",
    "print(a[:8])\n",
    "print(text_to_bit(string_text)[:8])\n",
    "a = bit_to_text(a[:8])\n",
    "print(a == string_text)\n",
    "print(a)"
   ]
  },
  {
   "cell_type": "code",
   "execution_count": 390,
   "metadata": {},
   "outputs": [
    {
     "name": "stdout",
     "output_type": "stream",
     "text": [
      "[0 1 0 1 1 0 0 1]\n",
      "Y\n"
     ]
    }
   ],
   "source": [
    "print(text_to_bit(\"Y\"))\n",
    "print(bit_to_text(np.array([0,1,0,1,1,0,0,1])))"
   ]
  },
  {
   "cell_type": "code",
   "execution_count": null,
   "metadata": {},
   "outputs": [],
   "source": [
    "plt.plot(convolution_start)"
   ]
  },
  {
   "cell_type": "code",
   "execution_count": null,
   "metadata": {},
   "outputs": [],
   "source": [
    "plt.plot(convolution_end)"
   ]
  },
  {
   "cell_type": "code",
   "execution_count": null,
   "metadata": {
    "scrolled": true
   },
   "outputs": [],
   "source": [
    "#start = np.argmax(convolution_start - norm_start*convolved_norm_output) + len(transformed_start)//2\n",
    "#end = np.argmax(convolution_end - norm_end*convolved_norm_output) - len(transformed_start)//2\n",
    "start = np.argmax(np.abs(convolution_start))+len(start_transmitted)\n",
    "end =  np.argmax(np.abs(convolution_end))\n",
    "print(start, end)"
   ]
  },
  {
   "cell_type": "code",
   "execution_count": 197,
   "metadata": {},
   "outputs": [
    {
     "name": "stdout",
     "output_type": "stream",
     "text": [
      "660\n"
     ]
    }
   ],
   "source": [
    "print(len(start_transmitted))"
   ]
  },
  {
   "cell_type": "markdown",
   "metadata": {},
   "source": [
    "Var_finale = a**2 * Var_debut + Var_bruit\n",
    "=> a_factor = sqrt((Var_finale - Var_bruit)/Var_debut)\n",
    "1) 0.34 2) 0.69"
   ]
  },
  {
   "cell_type": "code",
   "execution_count": 198,
   "metadata": {},
   "outputs": [
    {
     "name": "stdout",
     "output_type": "stream",
     "text": [
      "(1300,) (1302,)\n"
     ]
    }
   ],
   "source": [
    "print(np.shape(a_transmitted),np.shape(output_low_passed[start:end]))"
   ]
  },
  {
   "cell_type": "code",
   "execution_count": 47,
   "metadata": {},
   "outputs": [],
   "source": [
    "def decode(array) : \n",
    "    size = len(basis_2)\n",
    "    result = np.zeros(len(constellation))\n",
    "    for i in range(len(constellation))  :\n",
    "        result[i] = np.sum(basis_2*array[size*i: size*(i+1)])\n",
    "    return (np.sign(result)+1)/2"
   ]
  },
  {
   "cell_type": "code",
   "execution_count": 242,
   "metadata": {},
   "outputs": [],
   "source": [
    "def decode_2(array) :\n",
    "    #print(array.shape)\n",
    "    size_sent = int((len(array)-nb_samples_root_raised)/n_T + 1)\n",
    "    result = np.zeros(size_sent)\n",
    "    for i in range(size_sent):\n",
    "        #result[i] = np.sum(basis_2 * array[n_T*i : 200+n_T*i])\n",
    "        result[i] = np.sum(root_raised_12_Ts_rescaled * array[n_T*i : 200+n_T*i])\n",
    "    return (np.sign(result)+1)/2  "
   ]
  },
  {
   "cell_type": "code",
   "execution_count": 374,
   "metadata": {},
   "outputs": [],
   "source": [
    "def decode_2_qam(array) : \n",
    "    print(len(array))\n",
    "    size_sent = int((len(array)-nb_samples_root_raised)/n_T + 1)\n",
    "    result = np.zeros(size_sent) + 1j*np.zeros(size_sent)\n",
    "    print(size_sent)\n",
    "    for i in range (size_sent):\n",
    "        a = np.sum(root_raised_12_Ts_rescaled * array[n_T*i : 200+n_T*i])\n",
    "        #print(np.sign(np.imag(a)))\n",
    "        result[i] = np.sign(np.real(a)) + 1j * np.sign(np.imag(a))\n",
    "        #print(result[i])\n",
    "        \n",
    "    return result"
   ]
  },
  {
   "cell_type": "code",
   "execution_count": 307,
   "metadata": {},
   "outputs": [
    {
     "data": {
      "text/plain": [
       "1"
      ]
     },
     "execution_count": 307,
     "metadata": {},
     "output_type": "execute_result"
    }
   ],
   "source": [
    "np.sign(1)"
   ]
  },
  {
   "cell_type": "code",
   "execution_count": 49,
   "metadata": {},
   "outputs": [
    {
     "data": {
      "text/plain": [
       "[<matplotlib.lines.Line2D at 0x7f5699457048>]"
      ]
     },
     "execution_count": 49,
     "metadata": {},
     "output_type": "execute_result"
    },
    {
     "data": {
      "image/png": "[encoded data removed]",
      "text/plain": [
       "<Figure size 432x288 with 1 Axes>"
      ]
     },
     "metadata": {
      "needs_background": "light"
     },
     "output_type": "display_data"
    }
   ],
   "source": [
    "plt.plot(output_low_passed)"
   ]
  },
  {
   "cell_type": "code",
   "execution_count": 50,
   "metadata": {},
   "outputs": [],
   "source": [
    "max_after_channel = np.max(convolution_start)\n",
    "#print(max_after_channel)\n",
    "#print(max_before_channel)\n",
    "output_low_passed_rescaled = max_before_channel / max_after_channel * output_low_passed\n",
    "#print(max_before_channel / max_after_channel)\n",
    "array_2_low_passed = np.real(output_low_passed_rescaled[start:end])\n"
   ]
  },
  {
   "cell_type": "code",
   "execution_count": 56,
   "metadata": {},
   "outputs": [
    {
     "name": "stdout",
     "output_type": "stream",
     "text": [
      "[-0.00437059 -0.00052362  0.0015302  ...  0.00184638  0.00216364\n",
      " -0.00291366]\n",
      "[0. 1. 0. 0. 0. 1. 1. 1. 0. 1. 1. 0. 0. 0. 0. 1. 0. 1. 1. 1. 0. 0. 1. 0.\n",
      " 0. 1. 1. 0. 0. 0. 0. 1. 0. 1. 1. 0. 0. 0. 0. 0. 1. 1. 1. 0. 0. 0. 0. 1.\n",
      " 0. 1. 1. 1. 1. 0. 1.]\n"
     ]
    },
    {
     "ename": "UnicodeDecodeError",
     "evalue": "'utf-8' codec can't decode byte 0xe1 in position 5: invalid continuation byte",
     "output_type": "error",
     "traceback": [
      "\u001b[0;31m---------------------------------------------------------------------------\u001b[0m",
      "\u001b[0;31mUnicodeDecodeError\u001b[0m                        Traceback (most recent call last)",
      "\u001b[0;32m<ipython-input-56-22e84a1a7984>\u001b[0m in \u001b[0;36m<module>\u001b[0;34m\u001b[0m\n\u001b[1;32m      3\u001b[0m \u001b[0mprint\u001b[0m\u001b[0;34m(\u001b[0m\u001b[0md\u001b[0m\u001b[0;34m)\u001b[0m\u001b[0;34m\u001b[0m\u001b[0;34m\u001b[0m\u001b[0m\n\u001b[1;32m      4\u001b[0m \u001b[0;34m\u001b[0m\u001b[0m\n\u001b[0;32m----> 5\u001b[0;31m \u001b[0mresult\u001b[0m \u001b[0;34m=\u001b[0m \u001b[0mbit_to_text\u001b[0m\u001b[0;34m(\u001b[0m\u001b[0md\u001b[0m\u001b[0;34m)\u001b[0m\u001b[0;34m\u001b[0m\u001b[0;34m\u001b[0m\u001b[0m\n\u001b[0m\u001b[1;32m      6\u001b[0m \u001b[0mprint\u001b[0m\u001b[0;34m(\u001b[0m\u001b[0mresult\u001b[0m\u001b[0;34m)\u001b[0m\u001b[0;34m\u001b[0m\u001b[0;34m\u001b[0m\u001b[0m\n\u001b[1;32m      7\u001b[0m \u001b[0;31m#print(result == string_text)\u001b[0m\u001b[0;34m\u001b[0m\u001b[0;34m\u001b[0m\u001b[0;34m\u001b[0m\u001b[0m\n",
      "\u001b[0;32m<ipython-input-16-8a83adea338e>\u001b[0m in \u001b[0;36mbit_to_text\u001b[0;34m(bit)\u001b[0m\n\u001b[1;32m      2\u001b[0m     \u001b[0mba\u001b[0m \u001b[0;34m=\u001b[0m \u001b[0mbitarray\u001b[0m\u001b[0;34m.\u001b[0m\u001b[0mbitarray\u001b[0m\u001b[0;34m(\u001b[0m\u001b[0mbit\u001b[0m\u001b[0;34m.\u001b[0m\u001b[0mtolist\u001b[0m\u001b[0;34m(\u001b[0m\u001b[0;34m)\u001b[0m\u001b[0;34m)\u001b[0m\u001b[0;34m\u001b[0m\u001b[0;34m\u001b[0m\u001b[0m\n\u001b[1;32m      3\u001b[0m     \u001b[0mr\u001b[0m \u001b[0;34m=\u001b[0m \u001b[0mba\u001b[0m\u001b[0;34m.\u001b[0m\u001b[0mtobytes\u001b[0m\u001b[0;34m(\u001b[0m\u001b[0;34m)\u001b[0m\u001b[0;34m\u001b[0m\u001b[0;34m\u001b[0m\u001b[0m\n\u001b[0;32m----> 4\u001b[0;31m     \u001b[0;32mreturn\u001b[0m  \u001b[0mstr\u001b[0m\u001b[0;34m(\u001b[0m\u001b[0mr\u001b[0m\u001b[0;34m,\u001b[0m\u001b[0;34m'utf8'\u001b[0m\u001b[0;34m)\u001b[0m\u001b[0;34m\u001b[0m\u001b[0;34m\u001b[0m\u001b[0m\n\u001b[0m",
      "\u001b[0;31mUnicodeDecodeError\u001b[0m: 'utf-8' codec can't decode byte 0xe1 in position 5: invalid continuation byte"
     ]
    }
   ],
   "source": [
    "d = decode_2(array_2_low_passed)\n",
    "print(message_transmitted)\n",
    "print(d)\n",
    "\n",
    "result = bit_to_text(d)\n",
    "print(result)\n",
    "#print(result == string_text)"
   ]
  },
  {
   "cell_type": "code",
   "execution_count": 135,
   "metadata": {},
   "outputs": [
    {
     "name": "stdout",
     "output_type": "stream",
     "text": [
      "(420,)\n",
      "(420,)\n",
      "(420,)\n",
      "[1. 1. 1. 1. 0. 0. 1. 1. 1. 0. 0. 0.]\n",
      "[1. 1. 1. 1. 0. 0. 1. 1. 1. 0. 0. 0.]\n"
     ]
    }
   ],
   "source": [
    "a = transmitter_2(b_to_c(np.array([1, 1, 1, 1, 0, 0, 1,1,1,0,0,0])))\n",
    "#a = transmitter_2(b_to_c(text_to_bit(\"Constantin leceli\")))\n",
    "print(a.shape)\n",
    "b = np.real(shift(a,3000) + shift(a, 7000))\n",
    "print(b.shape)\n",
    "c = np.real(low_pass(shift(b,-3000), 2000))\n",
    "print(c.shape)\n",
    "#c = np.real(c)\n",
    "\n",
    "complex_a = np.random.randn(100) + 1j * np.random.randn(100)\n",
    "real_a = np.random.randn(100)\n",
    "\n",
    "#print(complex_a)\n",
    "#print(c)\n",
    "\n",
    "print((decode_2(c)))\n",
    "print(decode_2(a))\n",
    "\n",
    "#print(root_raised_12_Ts_rescaled.shape)"
   ]
  },
  {
   "cell_type": "code",
   "execution_count": null,
   "metadata": {},
   "outputs": [],
   "source": [
    "a = transmitter_2(b_to_c(np.array([1,1,1,0,0,0])))\n",
    "b = np.real(shift(a,3000) )\n",
    "c = np.real(low_pass(shift(a,-3000), 2000))\n",
    "print(a-c)\n"
   ]
  },
  {
   "cell_type": "code",
   "execution_count": 666,
   "metadata": {},
   "outputs": [],
   "source": [
    "##### qam\n",
    "def qam(array):\n",
    "    pad_val = int(T//T_s)\n",
    "    int_size = pad_val + f_s\n",
    "    \n",
    "    loop_size = len(array)//2\n",
    "    \n",
    "    result = np.zeros(loop_size*int_size)\n",
    "    \n",
    "    for i in range(loop_size) : \n",
    "        r1 = array[2*i]*basis()\n",
    "        r1 =  np.pad(r1, (0,pad_val) ,'constant', constant_values = (0))\n",
    "        #need to pad to add 0 at the begining\n",
    "        \n",
    "        r2  = array[2*i+1]*basis()\n",
    "        r2 =  np.pad(r2, (pad_val,0) ,'constant', constant_values = (0))\n",
    "        r = r1+r2\n",
    "        result[i*int_size : (i+1)*int_size ] = r\n",
    "        \n",
    "    return result"
   ]
  },
  {
   "cell_type": "code",
   "execution_count": 312,
   "metadata": {},
   "outputs": [
    {
     "ename": "TypeError",
     "evalue": "basis() missing 2 required positional arguments: 'x' and 't'",
     "output_type": "error",
     "traceback": [
      "\u001b[0;31m---------------------------------------------------------------------------\u001b[0m",
      "\u001b[0;31mTypeError\u001b[0m                                 Traceback (most recent call last)",
      "\u001b[0;32m<ipython-input-312-ccd16adc11c0>\u001b[0m in \u001b[0;36m<module>\u001b[0;34m\u001b[0m\n\u001b[1;32m      1\u001b[0m \u001b[0ma\u001b[0m \u001b[0;34m=\u001b[0m \u001b[0;34m[\u001b[0m\u001b[0;36m1\u001b[0m\u001b[0;34m,\u001b[0m\u001b[0;34m-\u001b[0m\u001b[0;36m1\u001b[0m\u001b[0;34m,\u001b[0m\u001b[0;36m1\u001b[0m\u001b[0;34m]\u001b[0m\u001b[0;34m\u001b[0m\u001b[0;34m\u001b[0m\u001b[0m\n\u001b[0;32m----> 2\u001b[0;31m \u001b[0mqam\u001b[0m\u001b[0;34m(\u001b[0m\u001b[0ma\u001b[0m\u001b[0;34m)\u001b[0m\u001b[0;34m\u001b[0m\u001b[0;34m\u001b[0m\u001b[0m\n\u001b[0m",
      "\u001b[0;32m<ipython-input-311-feccf0445498>\u001b[0m in \u001b[0;36mqam\u001b[0;34m(array)\u001b[0m\n\u001b[1;32m      9\u001b[0m \u001b[0;34m\u001b[0m\u001b[0m\n\u001b[1;32m     10\u001b[0m     \u001b[0;32mfor\u001b[0m \u001b[0mi\u001b[0m \u001b[0;32min\u001b[0m \u001b[0mrange\u001b[0m\u001b[0;34m(\u001b[0m\u001b[0mloop_size\u001b[0m\u001b[0;34m)\u001b[0m \u001b[0;34m:\u001b[0m\u001b[0;34m\u001b[0m\u001b[0;34m\u001b[0m\u001b[0m\n\u001b[0;32m---> 11\u001b[0;31m         \u001b[0mr1\u001b[0m \u001b[0;34m=\u001b[0m \u001b[0marray\u001b[0m\u001b[0;34m[\u001b[0m\u001b[0;36m2\u001b[0m\u001b[0;34m*\u001b[0m\u001b[0mi\u001b[0m\u001b[0;34m]\u001b[0m\u001b[0;34m*\u001b[0m\u001b[0mbasis\u001b[0m\u001b[0;34m(\u001b[0m\u001b[0;34m)\u001b[0m\u001b[0;34m\u001b[0m\u001b[0;34m\u001b[0m\u001b[0m\n\u001b[0m\u001b[1;32m     12\u001b[0m         \u001b[0mr1\u001b[0m \u001b[0;34m=\u001b[0m  \u001b[0mnp\u001b[0m\u001b[0;34m.\u001b[0m\u001b[0mpad\u001b[0m\u001b[0;34m(\u001b[0m\u001b[0mr1\u001b[0m\u001b[0;34m,\u001b[0m \u001b[0;34m(\u001b[0m\u001b[0;36m0\u001b[0m\u001b[0;34m,\u001b[0m\u001b[0mpad_val\u001b[0m\u001b[0;34m)\u001b[0m \u001b[0;34m,\u001b[0m\u001b[0;34m'constant'\u001b[0m\u001b[0;34m,\u001b[0m \u001b[0mconstant_values\u001b[0m \u001b[0;34m=\u001b[0m \u001b[0;34m(\u001b[0m\u001b[0;36m0\u001b[0m\u001b[0;34m)\u001b[0m\u001b[0;34m)\u001b[0m\u001b[0;34m\u001b[0m\u001b[0;34m\u001b[0m\u001b[0m\n\u001b[1;32m     13\u001b[0m         \u001b[0;31m#need to pad to add 0 at the begining\u001b[0m\u001b[0;34m\u001b[0m\u001b[0;34m\u001b[0m\u001b[0;34m\u001b[0m\u001b[0m\n",
      "\u001b[0;31mTypeError\u001b[0m: basis() missing 2 required positional arguments: 'x' and 't'"
     ]
    }
   ],
   "source": [
    "a = [1,-1,1]\n",
    "qam(a)"
   ]
  },
  {
   "cell_type": "code",
   "execution_count": null,
   "metadata": {},
   "outputs": [],
   "source": []
  }
 ],
 "metadata": {
  "kernelspec": {
   "display_name": "Python 3",
   "language": "python",
   "name": "python3"
  },
  "language_info": {
   "codemirror_mode": {
    "name": "ipython",
    "version": 3
   },
   "file_extension": ".py",
   "mimetype": "text/x-python",
   "name": "python",
   "nbconvert_exporter": "python",
   "pygments_lexer": "ipython3",
   "version": "3.7.1"
  }
 },
 "nbformat": 4,
 "nbformat_minor": 2
}
