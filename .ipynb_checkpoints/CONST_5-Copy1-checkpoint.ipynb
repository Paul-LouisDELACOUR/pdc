{
 "cells": [
  {
   "cell_type": "code",
   "execution_count": 8,
   "metadata": {},
   "outputs": [],
   "source": [
    "import numpy as np\n",
    "import math \n",
    "import bitarray\n",
    "from math import *\n",
    "from matplotlib import pyplot as plt"
   ]
  },
  {
   "cell_type": "markdown",
   "metadata": {},
   "source": [
    "# Basics : Root raised cosine, Fourier transform"
   ]
  },
  {
   "cell_type": "code",
   "execution_count": 9,
   "metadata": {},
   "outputs": [],
   "source": [
    "f_s = 22050\n",
    "T_s = 1/f_s\n",
    "sigma = 0.05"
   ]
  },
  {
   "cell_type": "code",
   "execution_count": 10,
   "metadata": {},
   "outputs": [],
   "source": [
    "def fourier_transform(x, start, end):\n",
    "    nb_coef = end - start\n",
    "    result = np.zeros(nb_coef)\n",
    "    n = np.arange(x.shape[0])\n",
    "    for f in np.arange(start, end):\n",
    "        result[f - start] = np.abs(np.sum(x/f_s * np.exp(-2*1j*pi* f * (n/f_s))))\n",
    "    \n",
    "    return result"
   ]
  },
  {
   "cell_type": "code",
   "execution_count": 11,
   "metadata": {},
   "outputs": [],
   "source": [
    "B = 0.8\n",
    "T = 2\n",
    "\n",
    "def root_raised_cos_(t, T):\n",
    "    if t == np.abs(T/(4*B)) : \n",
    "        return B/(pi*sqrt(2*T)) * ((pi + 2)*np.sin(pi/(4*B)) + (pi - 2)*cos(pi/(4*B)))\n",
    "    else :\n",
    "        return 4*B / (pi*sqrt(T)) * (cos((1+B)*pi*t/T) + (1-B)*pi/(4*B)*np.sinc((1-B)*t/T))/ (1 - (4*B*t/T)**2)"
   ]
  },
  {
   "cell_type": "code",
   "execution_count": 16,
   "metadata": {},
   "outputs": [],
   "source": [
    "root_raised = np.vectorize(root_raised_cos_)"
   ]
  },
  {
   "cell_type": "code",
   "execution_count": 219,
   "metadata": {},
   "outputs": [],
   "source": [
    "nb_samples_root_raised = 200\n",
    "n_T = 40 # number of samples to get to T in the root raised cosinus n_t = T/Ts\n",
    "n = nb_samples_root_raised//2\n",
    "t_s = np.arange(-n, n)/f_s\n",
    "root_raised_10_Ts = root_raised(t_s, 10*T_s)\n",
    "root_raised_10_Ts_rescaled = root_raised_10_Ts/(np.max(root_raised_10_Ts)*3/2)\n",
    "\n",
    "root_raised_12_Ts = root_raised(t_s, n_T*T_s)\n",
    "root_raised_12_Ts_rescaled = root_raised_12_Ts/(np.max(root_raised_12_Ts)*3/2)"
   ]
  },
  {
   "cell_type": "code",
   "execution_count": 220,
   "metadata": {},
   "outputs": [],
   "source": [
    "basis_2 = root_raised_12_Ts_rescaled"
   ]
  },
  {
   "cell_type": "code",
   "execution_count": 221,
   "metadata": {},
   "outputs": [
    {
     "data": {
      "text/plain": [
       "[<matplotlib.lines.Line2D at 0x11e076f98>]"
      ]
     },
     "execution_count": 221,
     "metadata": {},
     "output_type": "execute_result"
    },
    {
     "data": {
      "image/png": "[encoded data removed]",
      "text/plain": [
       "<Figure size 432x288 with 1 Axes>"
      ]
     },
     "metadata": {
      "needs_background": "light"
     },
     "output_type": "display_data"
    }
   ],
   "source": [
    "plt.plot(fourier_transform(basis_2, -4000, 4000))"
   ]
  },
  {
   "cell_type": "markdown",
   "metadata": {},
   "source": [
    "# Text-to-bit, Bit-to-text, B-to-UnitEnergySignal"
   ]
  },
  {
   "cell_type": "code",
   "execution_count": 222,
   "metadata": {},
   "outputs": [],
   "source": [
    "def text_to_bit(text):\n",
    "    ba = bitarray.bitarray()\n",
    "    ba.frombytes(text.encode('utf-8'))\n",
    "    ba = np.fromiter(map(lambda x : 1 if x else 0, ba.tolist()), dtype = int)\n",
    "    return ba"
   ]
  },
  {
   "cell_type": "code",
   "execution_count": 223,
   "metadata": {},
   "outputs": [],
   "source": [
    "def bit_to_text(bit):\n",
    "    ba = bitarray.bitarray(bit.tolist())\n",
    "    r = ba.tobytes()\n",
    "    return  str(r,'utf8')"
   ]
  },
  {
   "cell_type": "code",
   "execution_count": 224,
   "metadata": {},
   "outputs": [],
   "source": [
    "#right now convert (0,1) array to (-1 , 1) array\n",
    "def b_to_c(array):\n",
    "    c_s = (array -1/2)*2\n",
    "    return c_s"
   ]
  },
  {
   "cell_type": "code",
   "execution_count": 225,
   "metadata": {},
   "outputs": [],
   "source": [
    "def transmitter(text_file):\n",
    "    text_size = text_file.shape[0]\n",
    "    result = np.zeros(nb_samples_root_raised + n_T * (text_size -1))\n",
    "\n",
    "    for i in range(text_size) :\n",
    "        #print(text_file[i]*root_raised_12_Ts_rescaled)\n",
    "        result[n_T*i : nb_samples_root_raised + n_T*i] += text_file[i]*root_raised_12_Ts_rescaled\n",
    "    return result\n",
    "    "
   ]
  },
  {
   "cell_type": "code",
   "execution_count": 226,
   "metadata": {},
   "outputs": [],
   "source": [
    "def decode(array) :\n",
    "    #print(array.shape)\n",
    "    size_sent = int((len(array)-nb_samples_root_raised)/n_T + 1)\n",
    "    result = np.zeros(size_sent)\n",
    "    for i in range(size_sent):\n",
    "        #result[i] = np.sum(basis_2 * array[n_T*i : 200+n_T*i])\n",
    "        result[i] = np.sum(root_raised_12_Ts_rescaled * array[n_T*i : 200+n_T*i])\n",
    "    return (np.sign(result)+1)/2 "
   ]
  },
  {
   "cell_type": "code",
   "execution_count": 227,
   "metadata": {},
   "outputs": [],
   "source": [
    "def create_random(size):\n",
    "    random_text =  np.sign(np.random.rand(size) -0.5)\n",
    "    \n",
    "    return random_text"
   ]
  },
  {
   "cell_type": "code",
   "execution_count": 228,
   "metadata": {},
   "outputs": [],
   "source": [
    "def low_pass(arr, f_0):\n",
    "    T = 2*f_0\n",
    "    t = np.arange(-200,200)/f_s\n",
    "    sinc = T * np.sinc(T*t)\n",
    "    \n",
    "    return np.convolve(arr/f_s, sinc, mode = 'same')"
   ]
  },
  {
   "cell_type": "code",
   "execution_count": 229,
   "metadata": {},
   "outputs": [],
   "source": [
    "def shift(arr, f_0):\n",
    "    indices = np.arange(arr.shape[0])\n",
    "    return (arr * np.sqrt(2) * np.exp(1j * 2 * pi * f_0 * indices/f_s))/np.sqrt(2)"
   ]
  },
  {
   "cell_type": "code",
   "execution_count": 230,
   "metadata": {},
   "outputs": [
    {
     "data": {
      "image/png": "[encoded data removed]",
      "text/plain": [
       "<Figure size 432x288 with 1 Axes>"
      ]
     },
     "metadata": {
      "needs_background": "light"
     },
     "output_type": "display_data"
    }
   ],
   "source": [
    "string_text = \"przswYniLnjyaC3tw3A1S6DsnU4SNJzDeMMg7GrWUDLwyuzHMhNaTKvDtNVlGEFWjNNgQwon48Thz8hkdJWLbqUcRNt0r0DXatMjaplaE1A6NvTYScDu33HUsYiWurtK\"\n",
    "#string_text = \"Carapz il roule tout pété dérrière la nib's\"\n",
    "random_size = int(15*len(string_text)/100)\n",
    "start_random = create_random(8*random_size)\n",
    "end_random = create_random(8*random_size)\n",
    "constellation = b_to_c(text_to_bit(string_text))\n",
    "size_sent = len(constellation)\n",
    "\n",
    "#constellation = np.concatenate( (start_random, constellation, end_random) , axis = 0)\n",
    "a_transmitted = transmitter(constellation)\n",
    "\n",
    "\n",
    "#a_transmitted = np.concatenate( (start_random,a_transmitted, end_random), axis = 0)\n",
    "start_transmitted = transmitter(start_random)\n",
    "end_transmitted = transmitter(end_random)\n",
    "message_transmitted = np.concatenate((start_transmitted, a_transmitted, end_transmitted))\n",
    "plt.plot(message_transmitted)\n",
    "convolution_start = np.correlate(message_transmitted,start_transmitted , mode = 'valid')\n",
    "convolution_end = np.correlate(message_transmitted,end_transmitted , mode = 'valid')\n",
    "max_before_channel = np.max(convolution_start)\n",
    "\n",
    "f_1= 3000 # first value to shift\n",
    "f_2 = 7000 # second value to shift \n",
    "message_transmitted_shifted_f1 = shift(message_transmitted,f_1)\n",
    "message_transmitted_shifted_f2 = shift(message_transmitted, f_2)\n",
    "start_transmitted_f1 = message_transmitted_shifted_f1[:len(start_transmitted)]\n",
    "end_transmitted_f1 = message_transmitted_shifted_f1[-len(end_transmitted):]\n",
    "start_transmitted_f2 = message_transmitted_shifted_f2[:len(start_transmitted)]\n",
    "end_transmitted_f2 = message_transmitted_shifted_f2[-len(end_transmitted):]\n",
    "\n",
    "message_transmitted = (message_transmitted_shifted_f1 + message_transmitted_shifted_f2)\n",
    "message_transmitted = np.real(message_transmitted)"
   ]
  },
  {
   "cell_type": "code",
   "execution_count": 231,
   "metadata": {},
   "outputs": [
    {
     "name": "stdout",
     "output_type": "stream",
     "text": [
      "(41120,)\n",
      "(41120,)\n",
      "6240 47360\n"
     ]
    }
   ],
   "source": [
    "start = np.argmax(convolution_start)+len(start_transmitted)\n",
    "end = np.argmax(convolution_end)\n",
    "#print(end-start)\n",
    "print(a_transmitted.shape)\n",
    "print(message_transmitted[start:end].shape)\n",
    "print(start, end)\n",
    "#plt.plot(convolution_start[100:250][60:80])"
   ]
  },
  {
   "cell_type": "code",
   "execution_count": 232,
   "metadata": {},
   "outputs": [
    {
     "data": {
      "text/plain": [
       "[<matplotlib.lines.Line2D at 0x11e025ef0>]"
      ]
     },
     "execution_count": 232,
     "metadata": {},
     "output_type": "execute_result"
    },
    {
     "data": {
      "image/png": "[encoded data removed]",
      "text/plain": [
       "<Figure size 432x288 with 1 Axes>"
      ]
     },
     "metadata": {
      "needs_background": "light"
     },
     "output_type": "display_data"
    }
   ],
   "source": [
    "output = np.convolve(shift(root_raised_10_Ts_rescaled, 3000), message_transmitted)\n",
    "plt.plot(fourier_transform(output, 1000,9000))"
   ]
  },
  {
   "cell_type": "code",
   "execution_count": 233,
   "metadata": {},
   "outputs": [
    {
     "name": "stdout",
     "output_type": "stream",
     "text": [
      "przswYniLnjyaC3tw3A1S6DsnU4SNJzDeMMg7GrWUDLwyuzHMhNaTKvDtNVlGEFWjNNgQwon48Thz8hkdJWLbqUcRNt0r0DXatMjaplaE1A6NvTYScDu33HUsYiWurtK\n",
      "6343 47463\n",
      "True\n"
     ]
    }
   ],
   "source": [
    "start = np.argmax(np.correlate(output, start_transmitted_f1)) + len(start_transmitted_f1)\n",
    "end = np.argmax(np.correlate(output, end_transmitted_f1))\n",
    "output_truncated = np.real(low_pass(shift(output[start:end], -f_1), 2000))\n",
    "print(bit_to_text(decode(output_truncated)))\n",
    "print(start, end)\n",
    "print(bit_to_text(decode(output_truncated)) == string_text)"
   ]
  },
  {
   "cell_type": "code",
   "execution_count": 234,
   "metadata": {},
   "outputs": [
    {
     "name": "stdout",
     "output_type": "stream",
     "text": [
      "(41120,) 41120\n"
     ]
    }
   ],
   "source": [
    "print(a_transmitted.shape, end-start)"
   ]
  },
  {
   "cell_type": "code",
   "execution_count": 235,
   "metadata": {},
   "outputs": [],
   "source": [
    "np.savetxt('input.txt', message_transmitted)"
   ]
  },
  {
   "cell_type": "code",
   "execution_count": 236,
   "metadata": {},
   "outputs": [],
   "source": [
    "!python3 client.py --input_file='input.txt' --output_file='output.txt' --srv_hostname=iscsrv72.epfl.ch --srv_port=80"
   ]
  },
  {
   "cell_type": "code",
   "execution_count": 237,
   "metadata": {},
   "outputs": [
    {
     "name": "stdout",
     "output_type": "stream",
     "text": [
      "[ 0.01568949 -0.04502251 -0.05624418 ... -0.02422782  0.02142499\n",
      " -0.01843484]\n"
     ]
    }
   ],
   "source": [
    "output = np.loadtxt('output.txt')\n",
    "#shifted = np.concatenate((np.zeros((1000)), message_transmitted, np.zeros((1000))), axis = 0)\n",
    "#output = shifted + np.random.normal(0, 0.05, np.shape(shifted)[0])\n",
    "print(output)\n",
    "d = output"
   ]
  },
  {
   "cell_type": "code",
   "execution_count": 238,
   "metadata": {},
   "outputs": [
    {
     "data": {
      "text/plain": [
       "[<matplotlib.lines.Line2D at 0x11da24f98>]"
      ]
     },
     "execution_count": 238,
     "metadata": {},
     "output_type": "execute_result"
    },
    {
     "data": {
      "image/png": "[encoded data removed]",
      "text/plain": [
       "<Figure size 432x288 with 1 Axes>"
      ]
     },
     "metadata": {
      "needs_background": "light"
     },
     "output_type": "display_data"
    }
   ],
   "source": [
    "f_trans = fourier_transform(output,1000,9000)\n",
    "plt.plot(f_trans)"
   ]
  },
  {
   "cell_type": "code",
   "execution_count": 239,
   "metadata": {},
   "outputs": [
    {
     "name": "stdout",
     "output_type": "stream",
     "text": [
      "Part 1 has fallen\n"
     ]
    }
   ],
   "source": [
    "norm_1 = np.linalg.norm(f_trans[:2000])\n",
    "norm_2 = np.linalg.norm(f_trans[2000:4000])\n",
    "norm_3 = np.linalg.norm(f_trans[4000:6000])\n",
    "norm_4 = np.linalg.norm(f_trans[6000:8000])\n",
    "fallen_index = np.argmin(np.array([norm_1, norm_2, norm_3, norm_4]))\n",
    "\n",
    "#######\n",
    "#fallen_index = 2\n",
    "######\n",
    "\n",
    "print(\"Part {} has fallen\".format(fallen_index +1 ))\n",
    "#fallen_index = 3"
   ]
  },
  {
   "cell_type": "code",
   "execution_count": 240,
   "metadata": {},
   "outputs": [
    {
     "name": "stdout",
     "output_type": "stream",
     "text": [
      "fallen <2\n",
      "[0. 1. 1. 1. 0. 0. 0. 0.]\n",
      "[0 1 1 1 0 0 0 0]\n",
      "[0. 1. 1. ... 0. 1. 1.]\n",
      "True\n",
      "przswYniLnjyaC3tw3A1S6DsnU4SNJzDeMMg7GrWUDLwyuzHMhNaTKvDtNVlGEFWjNNgQwon48Thz8hkdJWLbqUcRNt0r0DXatMjaplaE1A6NvTYScDu33HUsYiWurtK\n"
     ]
    }
   ],
   "source": [
    "if fallen_index < 2:\n",
    "    output = np.convolve(shift(root_raised_10_Ts_rescaled, 7000), output)\n",
    "    ###\n",
    "    print(\"fallen <2\")\n",
    "    #plt.plot(fourier_transform(output,1000,9000))    \n",
    "    start = np.argmax(np.correlate(output, start_transmitted_f2)) + len(start_transmitted_f1)\n",
    "    end = np.argmax(np.correlate(output, end_transmitted_f2))\n",
    "    output_truncated = np.real(low_pass(shift(output[start:end], -f_2), 2000))\n",
    "\n",
    "else :\n",
    "    output = np.convolve(shift(root_raised_10_Ts_rescaled, 3000), output)\n",
    "    ###\n",
    "    #plt.plot(fourier_transform(output,1000,9000))    \n",
    "    start = np.argmax(np.correlate(output, start_transmitted_f1)) + len(start_transmitted_f1)\n",
    "    end = np.argmax(np.correlate(output, end_transmitted_f1))\n",
    "    output_truncated = -np.real(low_pass(shift(output[start:end], -f_1), 2000))\n",
    "\n",
    "\n",
    "\n",
    "print(decode(output_truncated)[0:8])\n",
    "print(text_to_bit(string_text)[0:8])\n",
    "print(decode(output_truncated))\n",
    "\n",
    "a = bit_to_text(decode(output_truncated))\n",
    "print(a == string_text)\n",
    "print(a)"
   ]
  },
  {
   "cell_type": "code",
   "execution_count": 98,
   "metadata": {},
   "outputs": [
    {
     "data": {
      "text/plain": [
       "[<matplotlib.lines.Line2D at 0x11cc8c320>]"
      ]
     },
     "execution_count": 98,
     "metadata": {},
     "output_type": "execute_result"
    },
    {
     "data": {
      "image/png": "[encoded data removed]",
      "text/plain": [
       "<Figure size 432x288 with 1 Axes>"
      ]
     },
     "metadata": {
      "needs_background": "light"
     },
     "output_type": "display_data"
    }
   ],
   "source": [
    "plt.plot(convolution_start)"
   ]
  },
  {
   "cell_type": "code",
   "execution_count": 99,
   "metadata": {},
   "outputs": [
    {
     "data": {
      "text/plain": [
       "[<matplotlib.lines.Line2D at 0x11cbb2940>]"
      ]
     },
     "execution_count": 99,
     "metadata": {},
     "output_type": "execute_result"
    },
    {
     "data": {
      "image/png": "[encoded data removed]",
      "text/plain": [
       "<Figure size 432x288 with 1 Axes>"
      ]
     },
     "metadata": {
      "needs_background": "light"
     },
     "output_type": "display_data"
    }
   ],
   "source": [
    "plt.plot(convolution_end)"
   ]
  },
  {
   "cell_type": "code",
   "execution_count": 68,
   "metadata": {
    "scrolled": true
   },
   "outputs": [
    {
     "name": "stdout",
     "output_type": "stream",
     "text": [
      "1870 5820\n"
     ]
    }
   ],
   "source": [
    "#start = np.argmax(convolution_start - norm_start*convolved_norm_output) + len(transformed_start)//2\n",
    "#end = np.argmax(convolution_end - norm_end*convolved_norm_output) - len(transformed_start)//2\n",
    "start = np.argmax(np.abs(convolution_start))+len(start_transmitted)\n",
    "end =  np.argmax(np.abs(convolution_end))\n",
    "print(start, end)"
   ]
  },
  {
   "cell_type": "code",
   "execution_count": null,
   "metadata": {},
   "outputs": [],
   "source": [
    "print(len(start_transmitted))"
   ]
  },
  {
   "cell_type": "markdown",
   "metadata": {},
   "source": [
    "Var_finale = a**2 * Var_debut + Var_bruit\n",
    "=> a_factor = sqrt((Var_finale - Var_bruit)/Var_debut)\n",
    "1) 0.34 2) 0.69"
   ]
  },
  {
   "cell_type": "code",
   "execution_count": null,
   "metadata": {},
   "outputs": [],
   "source": [
    "print(np.shape(a_transmitted),np.shape(output_low_passed[start:end]))"
   ]
  },
  {
   "cell_type": "code",
   "execution_count": null,
   "metadata": {},
   "outputs": [],
   "source": [
    "def decode(array) : \n",
    "    size = len(basis_2)\n",
    "    result = np.zeros(len(constellation))\n",
    "    for i in range(len(constellation))  :\n",
    "        result[i] = np.sum(basis_2*array[size*i: size*(i+1)])\n",
    "    return (np.sign(result)+1)/2"
   ]
  },
  {
   "cell_type": "code",
   "execution_count": 38,
   "metadata": {},
   "outputs": [],
   "source": [
    " "
   ]
  },
  {
   "cell_type": "code",
   "execution_count": 55,
   "metadata": {},
   "outputs": [
    {
     "ename": "NameError",
     "evalue": "name 'output_low_passed' is not defined",
     "output_type": "error",
     "traceback": [
      "\u001b[0;31m---------------------------------------------------------------------------\u001b[0m",
      "\u001b[0;31mNameError\u001b[0m                                 Traceback (most recent call last)",
      "\u001b[0;32m<ipython-input-55-9178014ef158>\u001b[0m in \u001b[0;36m<module>\u001b[0;34m\u001b[0m\n\u001b[0;32m----> 1\u001b[0;31m \u001b[0mplt\u001b[0m\u001b[0;34m.\u001b[0m\u001b[0mplot\u001b[0m\u001b[0;34m(\u001b[0m\u001b[0moutput_low_passed\u001b[0m\u001b[0;34m)\u001b[0m\u001b[0;34m\u001b[0m\u001b[0;34m\u001b[0m\u001b[0m\n\u001b[0m",
      "\u001b[0;31mNameError\u001b[0m: name 'output_low_passed' is not defined"
     ]
    }
   ],
   "source": [
    "plt.plot(output_low_passed)"
   ]
  },
  {
   "cell_type": "code",
   "execution_count": 56,
   "metadata": {},
   "outputs": [
    {
     "ename": "NameError",
     "evalue": "name 'output_low_passed' is not defined",
     "output_type": "error",
     "traceback": [
      "\u001b[0;31m---------------------------------------------------------------------------\u001b[0m",
      "\u001b[0;31mNameError\u001b[0m                                 Traceback (most recent call last)",
      "\u001b[0;32m<ipython-input-56-6294607b0dae>\u001b[0m in \u001b[0;36m<module>\u001b[0;34m\u001b[0m\n\u001b[1;32m      2\u001b[0m \u001b[0;31m#print(max_after_channel)\u001b[0m\u001b[0;34m\u001b[0m\u001b[0;34m\u001b[0m\u001b[0;34m\u001b[0m\u001b[0m\n\u001b[1;32m      3\u001b[0m \u001b[0;31m#print(max_before_channel)\u001b[0m\u001b[0;34m\u001b[0m\u001b[0;34m\u001b[0m\u001b[0;34m\u001b[0m\u001b[0m\n\u001b[0;32m----> 4\u001b[0;31m \u001b[0moutput_low_passed_rescaled\u001b[0m \u001b[0;34m=\u001b[0m \u001b[0mmax_before_channel\u001b[0m \u001b[0;34m/\u001b[0m \u001b[0mmax_after_channel\u001b[0m \u001b[0;34m*\u001b[0m \u001b[0moutput_low_passed\u001b[0m\u001b[0;34m\u001b[0m\u001b[0;34m\u001b[0m\u001b[0m\n\u001b[0m\u001b[1;32m      5\u001b[0m \u001b[0;31m#print(max_before_channel / max_after_channel)\u001b[0m\u001b[0;34m\u001b[0m\u001b[0;34m\u001b[0m\u001b[0;34m\u001b[0m\u001b[0m\n\u001b[1;32m      6\u001b[0m \u001b[0marray_2_low_passed\u001b[0m \u001b[0;34m=\u001b[0m \u001b[0mnp\u001b[0m\u001b[0;34m.\u001b[0m\u001b[0mreal\u001b[0m\u001b[0;34m(\u001b[0m\u001b[0moutput_low_passed_rescaled\u001b[0m\u001b[0;34m[\u001b[0m\u001b[0mstart\u001b[0m\u001b[0;34m:\u001b[0m\u001b[0mend\u001b[0m\u001b[0;34m]\u001b[0m\u001b[0;34m)\u001b[0m\u001b[0;34m\u001b[0m\u001b[0;34m\u001b[0m\u001b[0m\n",
      "\u001b[0;31mNameError\u001b[0m: name 'output_low_passed' is not defined"
     ]
    }
   ],
   "source": [
    "max_after_channel = np.max(convolution_start)\n",
    "#print(max_after_channel)\n",
    "#print(max_before_channel)\n",
    "output_low_passed_rescaled = max_before_channel / max_after_channel * output_low_passed\n",
    "#print(max_before_channel / max_after_channel)\n",
    "array_2_low_passed = np.real(output_low_passed_rescaled[start:end])\n"
   ]
  },
  {
   "cell_type": "code",
   "execution_count": null,
   "metadata": {},
   "outputs": [],
   "source": [
    "d = decode_2(array_2_low_passed)\n",
    "print(message_transmitted)\n",
    "print(d)\n",
    "\n",
    "result = bit_to_text(d)\n",
    "print(result)\n",
    "#print(result == string_text)"
   ]
  },
  {
   "cell_type": "code",
   "execution_count": 37,
   "metadata": {},
   "outputs": [
    {
     "name": "stdout",
     "output_type": "stream",
     "text": [
      "(310,)\n",
      "(310,)\n",
      "(400,)\n"
     ]
    },
    {
     "ename": "NameError",
     "evalue": "name 'decode_2' is not defined",
     "output_type": "error",
     "traceback": [
      "\u001b[0;31m---------------------------------------------------------------------------\u001b[0m",
      "\u001b[0;31mNameError\u001b[0m                                 Traceback (most recent call last)",
      "\u001b[0;32m<ipython-input-37-42c2662ddad1>\u001b[0m in \u001b[0;36m<module>\u001b[0;34m\u001b[0m\n\u001b[1;32m     14\u001b[0m \u001b[0;31m#print(c)\u001b[0m\u001b[0;34m\u001b[0m\u001b[0;34m\u001b[0m\u001b[0;34m\u001b[0m\u001b[0m\n\u001b[1;32m     15\u001b[0m \u001b[0;34m\u001b[0m\u001b[0m\n\u001b[0;32m---> 16\u001b[0;31m \u001b[0mprint\u001b[0m\u001b[0;34m(\u001b[0m\u001b[0;34m(\u001b[0m\u001b[0mdecode_2\u001b[0m\u001b[0;34m(\u001b[0m\u001b[0mc\u001b[0m\u001b[0;34m)\u001b[0m\u001b[0;34m)\u001b[0m\u001b[0;34m)\u001b[0m\u001b[0;34m\u001b[0m\u001b[0;34m\u001b[0m\u001b[0m\n\u001b[0m\u001b[1;32m     17\u001b[0m \u001b[0mprint\u001b[0m\u001b[0;34m(\u001b[0m\u001b[0mdecode_2\u001b[0m\u001b[0;34m(\u001b[0m\u001b[0ma\u001b[0m\u001b[0;34m)\u001b[0m\u001b[0;34m)\u001b[0m\u001b[0;34m\u001b[0m\u001b[0;34m\u001b[0m\u001b[0m\n\u001b[1;32m     18\u001b[0m \u001b[0;34m\u001b[0m\u001b[0m\n",
      "\u001b[0;31mNameError\u001b[0m: name 'decode_2' is not defined"
     ]
    }
   ],
   "source": [
    "a = transmitter_2(b_to_c(np.array([1, 1, 1, 1, 0, 0, 1,1,1,0,0,0])))\n",
    "#a = transmitter_2(b_to_c(text_to_bit(\"Constantin leceli\")))\n",
    "print(a.shape)\n",
    "b = np.real(shift(a,3000) + shift(a, 7000))\n",
    "print(b.shape)\n",
    "c = np.real(low_pass(shift(b,-3000), 2000))\n",
    "print(c.shape)\n",
    "#c = np.real(c)\n",
    "\n",
    "complex_a = np.random.randn(100) + 1j * np.random.randn(100)\n",
    "real_a = np.random.randn(100)\n",
    "\n",
    "#print(complex_a)\n",
    "#print(c)\n",
    "\n",
    "print((decode_2(c)))\n",
    "print(decode_2(a))\n",
    "\n",
    "#print(root_raised_12_Ts_rescaled.shape)"
   ]
  },
  {
   "cell_type": "code",
   "execution_count": null,
   "metadata": {},
   "outputs": [],
   "source": [
    "a = transmitter_2(b_to_c(np.array([1,1,1,0,0,0])))\n",
    "b = np.real(shift(a,3000) )\n",
    "c = np.real(low_pass(shift(a,-3000), 2000))\n",
    "print(a-c)\n"
   ]
  },
  {
   "cell_type": "code",
   "execution_count": 53,
   "metadata": {},
   "outputs": [],
   "source": [
    "##### qam\n",
    "def qam(array):\n",
    "    pad_val = int(T//T_s)\n",
    "    int_size = pad_val + f_s\n",
    "    \n",
    "    loop_size = len(array)//2\n",
    "    \n",
    "    result = np.zeros(loop_size*int_size)\n",
    "    \n",
    "    for i in range(loop_size) : \n",
    "        r1 = array[2*i]*basis()\n",
    "        r1 =  np.pad(r1, (0,pad_val) ,'constant', constant_values = (0))\n",
    "        #need to pad to add 0 at the begining\n",
    "        \n",
    "        r2  = array[2*i+1]*basis()\n",
    "        r2 =  np.pad(r2, (pad_val,0) ,'constant', constant_values = (0))\n",
    "        r = r1+r2\n",
    "        result[i*int_size : (i+1)*int_size ] = r\n",
    "        \n",
    "    return result"
   ]
  },
  {
   "cell_type": "code",
   "execution_count": null,
   "metadata": {},
   "outputs": [],
   "source": []
  }
 ],
 "metadata": {
  "kernelspec": {
   "display_name": "Python 3",
   "language": "python",
   "name": "python3"
  },
  "language_info": {
   "codemirror_mode": {
    "name": "ipython",
    "version": 3
   },
   "file_extension": ".py",
   "mimetype": "text/x-python",
   "name": "python",
   "nbconvert_exporter": "python",
   "pygments_lexer": "ipython3",
   "version": "3.7.1"
  }
 },
 "nbformat": 4,
 "nbformat_minor": 2
}
