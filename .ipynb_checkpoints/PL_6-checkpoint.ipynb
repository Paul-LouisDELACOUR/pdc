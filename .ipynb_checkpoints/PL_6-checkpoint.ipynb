{
 "cells": [
  {
   "cell_type": "code",
   "execution_count": 1,
   "metadata": {},
   "outputs": [],
   "source": [
    "import numpy as np\n",
    "import math \n",
    "import bitarray\n",
    "from math import *\n",
    "from matplotlib import pyplot as plt"
   ]
  },
  {
   "cell_type": "code",
   "execution_count": 2,
   "metadata": {},
   "outputs": [],
   "source": [
    "## shift : the amount on which the basis function is shifted by\n",
    "## number : the number of the basis function start at 0\n",
    "##number = t\n",
    "T = 1 ##The lenght of the basis function\n",
    "value = 1/math.sqrt(T) ## The height of the function considering it is a rect\n",
    "\n",
    "f_s = 22050\n",
    "T_s = 1/f_s\n",
    "sigma = 0.05\n",
    "\n",
    "\n",
    "#x the basis number\n",
    "def basis(x,t):\n",
    "    if x >T and x<=(1+T) : \n",
    "        return value\n",
    "    \n",
    "def r(t) :\n",
    "    return sinc(t)\n",
    "\n",
    "def basis_rect(t) :\n",
    "    return "
   ]
  },
  {
   "cell_type": "code",
   "execution_count": 3,
   "metadata": {},
   "outputs": [],
   "source": [
    "def fourier_transform(x, start, end):\n",
    "    nb_coef = end - start\n",
    "    result = np.zeros(nb_coef)\n",
    "    n = np.arange(x.shape[0])\n",
    "    for f in np.arange(start, end):\n",
    "        result[f - start] = np.abs(np.sum(x/f_s * np.exp(-2*1j*pi* f * (n/f_s))))\n",
    "    \n",
    "    return result"
   ]
  },
  {
   "cell_type": "code",
   "execution_count": 4,
   "metadata": {},
   "outputs": [],
   "source": [
    "#pss_array = pss()\n",
    "#plt.plot(fourier_transform(pss_array, -4000, 4000))"
   ]
  },
  {
   "cell_type": "code",
   "execution_count": 5,
   "metadata": {},
   "outputs": [],
   "source": [
    "B = 0.8\n",
    "T = 2\n",
    "\n",
    "def root_raised_cos(t):\n",
    "    return 4*B / (pi*sqrt(T)) * (cos((1+B)*pi*t/T) + (1-B)*pi/(4*B)*np.sinc((1-B)*t/T))/ (1 - (4*B*t/T)**2)"
   ]
  },
  {
   "cell_type": "code",
   "execution_count": 6,
   "metadata": {},
   "outputs": [],
   "source": [
    "def root_raised_cos_v2(t, T):\n",
    "    if t == np.abs(T/(4*B)) : \n",
    "        return B/(pi*sqrt(2*T)) * ((pi + 2)*np.sin(pi/(4*B)) + (pi - 2)*cos(pi/(4*B)))\n",
    "    else :\n",
    "        return 4*B / (pi*sqrt(T)) * (cos((1+B)*pi*t/T) + (1-B)*pi/(4*B)*np.sinc((1-B)*t/T))/ (1 - (4*B*t/T)**2)"
   ]
  },
  {
   "cell_type": "code",
   "execution_count": 7,
   "metadata": {},
   "outputs": [],
   "source": [
    "root_raised = np.vectorize(root_raised_cos_v2)"
   ]
  },
  {
   "cell_type": "code",
   "execution_count": 8,
   "metadata": {},
   "outputs": [],
   "source": [
    "#Working : 50*T_s and -500, 501"
   ]
  },
  {
   "cell_type": "code",
   "execution_count": 210,
   "metadata": {},
   "outputs": [],
   "source": [
    "nb_samples_root_raised = 200\n",
    "n_T = 10 # number of samples to get to T in the root raised cosinus n_t = T/Ts\n",
    "n = nb_samples_root_raised//2\n",
    "t_s = np.arange(-n, n)/f_s\n",
    "root_raised_12_Ts = root_raised(t_s, n_T*T_s)\n",
    "root_raised_12_Ts_rescaled = root_raised_12_Ts/(np.max(root_raised_12_Ts)*3/2)\n",
    "\n",
    "root_raised_12_Ts_rescaled = root_raised_12_Ts_rescaled + 0j"
   ]
  },
  {
   "cell_type": "code",
   "execution_count": 10,
   "metadata": {},
   "outputs": [
    {
     "data": {
      "text/plain": [
       "[<matplotlib.lines.Line2D at 0x11f3a3e80>]"
      ]
     },
     "execution_count": 10,
     "metadata": {},
     "output_type": "execute_result"
    },
    {
     "data": {
      "image/png": "[encoded data removed]",
      "text/plain": [
       "<Figure size 432x288 with 1 Axes>"
      ]
     },
     "metadata": {
      "needs_background": "light"
     },
     "output_type": "display_data"
    }
   ],
   "source": [
    "plt.plot(root_raised_12_Ts_rescaled)"
   ]
  },
  {
   "cell_type": "code",
   "execution_count": 11,
   "metadata": {},
   "outputs": [],
   "source": [
    "basis_2 = root_raised_12_Ts_rescaled"
   ]
  },
  {
   "cell_type": "code",
   "execution_count": 12,
   "metadata": {},
   "outputs": [
    {
     "data": {
      "text/plain": [
       "[<matplotlib.lines.Line2D at 0x11f45aeb8>]"
      ]
     },
     "execution_count": 12,
     "metadata": {},
     "output_type": "execute_result"
    },
    {
     "data": {
      "image/png": "[encoded data removed]",
      "text/plain": [
       "<Figure size 432x288 with 1 Axes>"
      ]
     },
     "metadata": {
      "needs_background": "light"
     },
     "output_type": "display_data"
    }
   ],
   "source": [
    "plt.plot(fourier_transform(basis_2, -4000, 4000))"
   ]
  },
  {
   "cell_type": "code",
   "execution_count": 13,
   "metadata": {},
   "outputs": [],
   "source": [
    "def text_to_bit(text):\n",
    "    ba = bitarray.bitarray()\n",
    "    ba.frombytes(text.encode('utf-8'))\n",
    "    ba = np.fromiter(map(lambda x : 1 if x else 0, ba.tolist()), dtype = int)\n",
    "    return ba"
   ]
  },
  {
   "cell_type": "code",
   "execution_count": 14,
   "metadata": {},
   "outputs": [],
   "source": [
    "def bit_to_text(bit):\n",
    "    ba = bitarray.bitarray(bit.tolist())\n",
    "    r = ba.tobytes()\n",
    "    return  str(r,'utf8')"
   ]
  },
  {
   "cell_type": "code",
   "execution_count": 130,
   "metadata": {},
   "outputs": [],
   "source": [
    "#right now convert (0,1) array to (-1 , 1) array\n",
    "def b_to_c(array):\n",
    "    c_s = (array -1/2)*2\n",
    "    return c_s"
   ]
  },
  {
   "cell_type": "code",
   "execution_count": 186,
   "metadata": {},
   "outputs": [],
   "source": [
    "def b_to_c(a):\n",
    "    a = (a -1/2)*2\n",
    "    real = np.array([a[2*i] for i in range(len(a)//2) ])\n",
    "    im = np.array([1j*a[2*i+1] for i in range(len(a)//2)])\n",
    "    \n",
    "    return real + im"
   ]
  },
  {
   "cell_type": "code",
   "execution_count": 236,
   "metadata": {},
   "outputs": [
    {
     "name": "stdout",
     "output_type": "stream",
     "text": [
      "(6,)\n"
     ]
    }
   ],
   "source": [
    "r = b_to_c(np.array([0,0,1,1, 0, 0, 1, 0, 1, 0, 1, 1]))\n",
    "print(r.shape)"
   ]
  },
  {
   "cell_type": "code",
   "execution_count": 237,
   "metadata": {},
   "outputs": [],
   "source": [
    "def c_to_b(a):\n",
    "    r = np.zeros(len(a)*2)\n",
    "    real = np.real(a)\n",
    "    im = np.imag(a)\n",
    "    for i in range (2*len(a)):\n",
    "        if(i%2 == 0):\n",
    "            r[i] = real[i//2]\n",
    "        else : \n",
    "            r[i] = im[(i-1)//2]\n",
    "            \n",
    "    return r"
   ]
  },
  {
   "cell_type": "code",
   "execution_count": 238,
   "metadata": {},
   "outputs": [
    {
     "name": "stdout",
     "output_type": "stream",
     "text": [
      "[-1. -1.  1.  1. -1. -1.  1. -1.  1. -1.  1.  1.]\n"
     ]
    }
   ],
   "source": [
    "a= c_to_b(r)\n",
    "print(a)"
   ]
  },
  {
   "cell_type": "code",
   "execution_count": 83,
   "metadata": {},
   "outputs": [],
   "source": [
    "##### Design a transmitter that reads a text file and returns real-valued samples of an\n",
    "#information-bearing signal s[n].\n",
    "#arg text_file : an array of sended values\n",
    "const_size = 2\n",
    "def transmitter(text_file, basis_size):\n",
    "    size = text_file.shape[0]\n",
    "    result = np.zeros(size*basis_size)\n",
    "    for i in range(size):\n",
    "        result[basis_size*i:basis_size*(i+1)] = text_file[i]*basis_2\n",
    "    return result"
   ]
  },
  {
   "cell_type": "code",
   "execution_count": 84,
   "metadata": {},
   "outputs": [
    {
     "data": {
      "text/plain": [
       "'\\ndef transmitter_2_bits(text_file, basis_size):\\n    size = text_file.shape[0]\\n    result = np.zeros(size//2*basis_size)\\n    for i in range(size//2):\\n        if text_file[2*i] == 1 and text_file[2*i+1] == 1:\\n            res = basis_2\\n        elif text_file[2*i] == 1 and text_file[2*i+1] == 0:\\n            res = 0.333*basis_2\\n        elif text_file[2*i] == 0 and text_file[2*i+1] == 1:\\n            res = -0.333*basis_2\\n        else:\\n            res = -basis_2\\n        result[basis_size*i:basis_size*(i+1)] = res\\n    return result\\n'"
      ]
     },
     "execution_count": 84,
     "metadata": {},
     "output_type": "execute_result"
    }
   ],
   "source": [
    "'''\n",
    "def transmitter_2_bits(text_file, basis_size):\n",
    "    size = text_file.shape[0]\n",
    "    result = np.zeros(size//2*basis_size)\n",
    "    for i in range(size//2):\n",
    "        if text_file[2*i] == 1 and text_file[2*i+1] == 1:\n",
    "            res = basis_2\n",
    "        elif text_file[2*i] == 1 and text_file[2*i+1] == 0:\n",
    "            res = 0.333*basis_2\n",
    "        elif text_file[2*i] == 0 and text_file[2*i+1] == 1:\n",
    "            res = -0.333*basis_2\n",
    "        else:\n",
    "            res = -basis_2\n",
    "        result[basis_size*i:basis_size*(i+1)] = res\n",
    "    return result\n",
    "'''"
   ]
  },
  {
   "cell_type": "code",
   "execution_count": 211,
   "metadata": {},
   "outputs": [],
   "source": [
    "def transmitter_2(text_file):\n",
    "    text_size = text_file.shape[0]\n",
    "    result = 0j*np.zeros(nb_samples_root_raised + n_T * (text_size -1))\n",
    "    #result+=\n",
    "    for i in range(text_size) :\n",
    "        #print(text_file[i]*root_raised_12_Ts_rescaled)\n",
    "        result[n_T*i : nb_samples_root_raised + n_T*i] += text_file[i]*root_raised_12_Ts_rescaled\n",
    "    return result\n",
    "    "
   ]
  },
  {
   "cell_type": "code",
   "execution_count": 212,
   "metadata": {},
   "outputs": [],
   "source": [
    "def create_random(size):\n",
    "    random_text =  np.sign(np.random.rand(size) -0.5)\n",
    "    result = np.zeros(nb_samples_root_raised *size)\n",
    "    for i in range(size) : \n",
    "        result[nb_samples_root_raised*i:nb_samples_root_raised*(i+1)] = root_raised_12_Ts_rescaled * random_text[i]\n",
    "    return result        "
   ]
  },
  {
   "cell_type": "code",
   "execution_count": 213,
   "metadata": {},
   "outputs": [],
   "source": [
    "def create_random(size):\n",
    "    random_text =  np.sign(np.random.rand(size) -0.5)\n",
    "    \n",
    "    return random_text"
   ]
  },
  {
   "cell_type": "code",
   "execution_count": 214,
   "metadata": {},
   "outputs": [],
   "source": [
    "def low_pass(arr, f_0):\n",
    "    T = 2*f_0\n",
    "    t = np.arange(-200,200)/f_s\n",
    "    sinc = T * np.sinc(T*t)\n",
    "    \n",
    "    return np.convolve(arr/f_s, sinc, mode = 'same')"
   ]
  },
  {
   "cell_type": "code",
   "execution_count": 215,
   "metadata": {},
   "outputs": [],
   "source": [
    "def low_pass_2(arr, f_0):\n",
    "    return np.convolve(rand_a, root_raised_12_Ts_rescaled, mode = 'same')"
   ]
  },
  {
   "cell_type": "code",
   "execution_count": 216,
   "metadata": {},
   "outputs": [],
   "source": [
    "#plt.plot(fourier_transform(low_pass(rand_a, 1000), -5000, 5000))"
   ]
  },
  {
   "cell_type": "code",
   "execution_count": 217,
   "metadata": {},
   "outputs": [],
   "source": [
    "rand_a = np.random.randn(1000)"
   ]
  },
  {
   "cell_type": "code",
   "execution_count": 218,
   "metadata": {},
   "outputs": [],
   "source": [
    "def shift(arr, f_0):\n",
    "    indices = np.arange(arr.shape[0])\n",
    "    return (arr * np.sqrt(2) * np.exp(1j * 2 * pi * f_0 * indices/f_s))/np.sqrt(2)"
   ]
  },
  {
   "cell_type": "code",
   "execution_count": 219,
   "metadata": {},
   "outputs": [
    {
     "data": {
      "image/png": "[encoded data removed]",
      "text/plain": [
       "<Figure size 432x288 with 1 Axes>"
      ]
     },
     "metadata": {
      "needs_background": "light"
     },
     "output_type": "display_data"
    }
   ],
   "source": [
    "string_text = \"Yw2gOypSJt70AcKgxH9v1QCSz4U9pjIWpdipde0H5xYcEm01JWGr7K1H5ll0eTCgYt4gv0AofyjrdYSzHncY7agwuYt5f7NuEnYjfvDzRPYHemNK4j2RhSuUn3jRCsOjr3Bur98qkYsaMxouGkHLsc6Nse4wc7pp\"\n",
    "random_size = int(50*len(string_text)/100)\n",
    "start_random = create_random(8*random_size)\n",
    "end_random = create_random(8*random_size)\n",
    "constellation = b_to_c(text_to_bit(string_text))\n",
    "size_sent = len(constellation)\n",
    "\n",
    "#print(constellation)\n",
    "#constellation = np.concatenate( (start_random, constellation, end_random) , axis = 0)\n",
    "a_transmitted = transmitter_2(constellation)\n",
    "\n",
    "#print(a_transmitted)\n",
    "\n",
    "#a_transmitted = np.concatenate( (start_random,a_transmitted, end_random), axis = 0)\n",
    "start_transmitted = transmitter_2(start_random)\n",
    "end_transmitted = transmitter_2(end_random)\n",
    "message_transmitted = np.concatenate((start_transmitted, a_transmitted, end_transmitted))\n",
    "plt.plot(message_transmitted)\n",
    "convolution_start = np.correlate(message_transmitted,start_transmitted , mode = 'valid')\n",
    "convolution_end = np.correlate(message_transmitted,end_transmitted , mode = 'valid')\n",
    "max_before_channel = np.max(convolution_start)\n",
    "\n",
    "f_1= 3000 # first value to shift\n",
    "f_2 = 7000 # second value to shift \n",
    "message_transmitted_shifted_f1 = shift(message_transmitted,f_1)\n",
    "message_transmitted_shifted_f2 = shift(message_transmitted, f_2)\n",
    "start_transmitted_f1 = message_transmitted_shifted_f1[:len(start_transmitted)]\n",
    "end_transmitted_f1 = message_transmitted_shifted_f1[-len(end_transmitted):]\n",
    "start_transmitted_f2 = message_transmitted_shifted_f2[:len(start_transmitted)]\n",
    "end_transmitted_f2 = message_transmitted_shifted_f2[-len(end_transmitted):]\n",
    "\n",
    "message_transmitted = (message_transmitted_shifted_f1 + message_transmitted_shifted_f2)\n",
    "message_transmitted = np.real(message_transmitted)"
   ]
  },
  {
   "cell_type": "code",
   "execution_count": 227,
   "metadata": {},
   "outputs": [
    {
     "data": {
      "text/plain": [
       "[<matplotlib.lines.Line2D at 0x12240da58>]"
      ]
     },
     "execution_count": 227,
     "metadata": {},
     "output_type": "execute_result"
    },
    {
     "data": {
      "image/png": "[encoded data removed]",
      "text/plain": [
       "<Figure size 432x288 with 1 Axes>"
      ]
     },
     "metadata": {
      "needs_background": "light"
     },
     "output_type": "display_data"
    }
   ],
   "source": [
    "plt.plot(fourier_transform((message_transmitted_shifted_f1 + message_transmitted_shifted_f2), 1000, 9000))"
   ]
  },
  {
   "cell_type": "code",
   "execution_count": 228,
   "metadata": {},
   "outputs": [
    {
     "name": "stdout",
     "output_type": "stream",
     "text": [
      "(6590,)\n",
      "(6590,)\n",
      "6590 13180\n"
     ]
    }
   ],
   "source": [
    "start = np.argmax(convolution_start)+len(start_transmitted)\n",
    "end = np.argmax(convolution_end)\n",
    "#print(end-start)\n",
    "print(a_transmitted.shape)\n",
    "print(message_transmitted[start:end].shape)\n",
    "print(start, end)\n",
    "#plt.plot(convolution_start[100:250][60:80])"
   ]
  },
  {
   "cell_type": "code",
   "execution_count": 229,
   "metadata": {},
   "outputs": [],
   "source": [
    "output = np.convolve(shift(root_raised_12_Ts_rescaled, 3000), message_transmitted)"
   ]
  },
  {
   "cell_type": "code",
   "execution_count": 256,
   "metadata": {
    "scrolled": true
   },
   "outputs": [
    {
     "name": "stdout",
     "output_type": "stream",
     "text": [
      "(1280,)\n",
      "[ 5.44722131e-04-5.44722131e-04j  4.68170147e-04-4.68170147e-04j\n",
      "  2.39237432e-04-2.39237432e-04j -7.60596683e-05+7.60596683e-05j\n",
      " -3.81573270e-04+3.81573270e-04j -5.80225984e-04+5.80225984e-04j\n",
      " -6.04735062e-04+6.04735062e-04j -4.40212149e-04+4.40212149e-04j\n",
      " -1.31148662e-04+1.31148662e-04j  2.30094211e-04-2.30094211e-04j\n",
      " -1.42645585e-05+1.42645585e-05j  2.02947082e-04-2.02947082e-04j\n",
      "  3.60238399e-04-3.60238399e-04j  4.04024658e-04-4.04024658e-04j\n",
      "  3.14683457e-04-3.14683457e-04j  1.14471251e-04-1.14471251e-04j\n",
      " -1.37602992e-04+1.37602992e-04j -3.62937978e-04+3.62937978e-04j\n",
      " -4.87630352e-04+4.87630352e-04j -4.66469882e-04+4.66469882e-04j\n",
      "  2.45785012e-04+8.43659249e-04j  4.36501697e-04+4.99838597e-04j\n",
      "  4.93338748e-04-1.48638839e-05j  3.90818855e-04-5.42938191e-04j\n",
      "  1.52275695e-04-9.15422236e-04j -1.54851739e-04-1.00560023e-03j\n",
      " -4.37797389e-04-7.71672736e-04j -6.06205463e-04-2.74218835e-04j\n",
      " -6.00646742e-04+3.38349418e-04j -4.13046433e-04+8.73234855e-04j\n",
      "  4.52534491e-04+6.08380653e-04j  7.36448791e-04+6.05785668e-04j\n",
      "  7.95820946e-04+4.03130715e-04j  6.00803369e-04+5.51266099e-05j\n",
      "  1.98691141e-04-3.32470769e-04j -2.96978524e-04-6.34530942e-04j\n",
      " -7.38155151e-04-7.46520958e-04j -9.86081403e-04-6.20218850e-04j\n",
      " -9.54356868e-04-2.83201160e-04j -6.38086634e-04+1.65335290e-04j\n",
      " -1.19568551e-04+5.82609459e-04j  4.52349159e-04+8.26548400e-04j\n",
      "  9.04263286e-04+8.02891007e-04j  1.08988712e-03+4.99799907e-04j\n",
      "  9.36229940e-04-2.31163625e-06j  4.70023678e-04-5.50784655e-04j\n",
      " -1.84632940e-04-9.66167821e-04j -8.38253572e-04-1.10003331e-03j\n",
      " -1.28956608e-03-8.86988109e-04j -1.38584013e-03-3.73192497e-04j\n",
      " -1.07222999e-03+2.89980471e-04j -4.14718027e-04+8.87938414e-04j\n",
      "  4.11777241e-04+1.20959242e-03j  1.16872494e-03+1.11875818e-03j\n",
      "  1.62136919e-03+6.06857567e-04j  1.60962497e-03-1.92381562e-04j\n",
      "  1.10175135e-03-1.03471618e-03j  2.13799774e-04-1.63752491e-03j\n",
      " -8.13285876e-04-1.77212670e-03j -1.67527620e-03-1.34736678e-03j\n",
      " -2.08987197e-03-4.55470704e-04j -1.88255032e-03+6.39337008e-04j\n",
      " -1.04819293e-03+1.57198321e-03j  2.31325558e-04+1.99031479e-03j\n",
      "  1.62245741e-03+1.67809055e-03j  2.72284730e-03+6.46713910e-04j\n",
      "  3.17255613e-03-8.39309967e-04j  2.76482405e-03-2.32046919e-03j\n",
      "  1.52500571e-03-3.27543823e-03j -2.67953036e-04-3.29458623e-03j\n",
      " -2.12998748e-03-2.24060655e-03j -3.48511973e-03-3.39647581e-04j\n",
      " -3.82009654e-03+1.83891735e-03j -2.84326743e-03+3.52518753e-03j\n",
      " -6.04697820e-04+3.98583910e-03j  2.46099184e-03+2.79133687e-03j\n",
      "  5.59279391e-03+2.77205351e-05j  7.86359255e-03-3.62962613e-03j\n",
      "  8.41762067e-03-7.03265817e-03j  6.73636000e-03-8.86777606e-03j\n",
      "  2.86832488e-03-8.09107067e-03j -2.44502083e-03-4.37485420e-03j\n",
      " -7.80299905e-03+1.58027406e-03j -1.13681024e-02+8.00355016e-03j\n",
      " -1.12678641e-02+1.23651455e-02j -6.12378385e-03+1.20350025e-02j\n",
      "  4.38521784e-03+5.18012753e-03j  1.90453419e-02-8.30235712e-03j\n",
      "  3.48448776e-02-2.60740586e-02j  4.70365177e-02-4.31186576e-02j\n",
      "  4.95918948e-02-5.21586789e-02j  3.60486253e-02-4.47707592e-02j\n",
      "  6.70329523e-04-1.30758587e-02j -6.02392557e-02+4.82846081e-02j\n",
      " -1.47089736e-01+1.40295932e-01j -2.56077281e-01+2.58288594e-01j\n",
      " -3.78816187e-01+3.91613359e-01j -5.02704567e-01+5.24496415e-01j\n",
      " -6.12092296e-01+6.38063826e-01j -6.90180700e-01+7.13265235e-01j\n",
      " -7.21436718e-01+7.34199924e-01j -6.94177031e-01+6.91209498e-01j\n",
      " -6.02897940e-01+5.83090317e-01j -4.49916861e-01+4.17908641e-01j\n",
      " -2.45961998e-01+2.12154044e-01j -9.49424510e-03-1.17055576e-02j\n",
      "  2.35250580e-01-2.28868832e-01j  4.61284142e-01-4.16378561e-01j\n",
      "  6.42529881e-01-5.57024377e-01j  7.57560028e-01-6.42188902e-01j\n",
      "  7.92784794e-01-6.73048269e-01j  7.44533994e-01-6.59862268e-01j\n",
      "  6.19640304e-01-6.19479014e-01j  4.34384108e-01-5.71551639e-01j\n",
      "  2.11948017e-01-5.34238920e-01j -2.11998027e-02-5.20277094e-01j\n",
      " -2.39374222e-01-5.34238920e-01j -4.21486747e-01-5.71551639e-01j\n",
      " -5.53942423e-01-6.19479014e-01j -6.32130400e-01-6.59862268e-01j\n",
      " -6.60285064e-01-6.73048269e-01j -6.49803767e-01-6.42188902e-01j\n",
      " -6.16397060e-01-5.57024377e-01j -5.76659825e-01-4.16378561e-01j\n",
      " -5.44744311e-01-2.28868832e-01j -5.29771339e-01-1.17055576e-02j\n",
      " -5.34444948e-01+2.12154044e-01j -5.55076172e-01+4.17908641e-01j\n",
      " -5.82929026e-01+5.83090317e-01j -6.06537771e-01+6.91209498e-01j\n",
      " -6.14463399e-01+7.34199924e-01j -5.97894108e-01+7.13265235e-01j\n",
      " -5.52558322e-01+6.38063826e-01j -4.79590834e-01+5.24496415e-01j\n",
      " -3.85231611e-01+3.91613359e-01j -2.79488396e-01+2.58288594e-01j\n",
      " -1.74103887e-01+1.40295932e-01j -8.02928283e-02+4.82846081e-02j\n",
      " -6.73176439e-03-1.30758587e-02j  4.18032260e-02-4.47707592e-02j\n",
      "  6.49218844e-02-5.21586789e-02j  6.62031930e-02-4.31186576e-02j\n",
      "  5.20455890e-02-2.60740586e-02j  3.00942057e-02-8.30235712e-03j\n",
      "  7.61704506e-03+5.18012753e-03j -9.82369009e-03+1.20350025e-02j\n",
      " -1.91589490e-02+1.23651455e-02j -1.99581977e-02+8.00355016e-03j\n",
      " -1.39858032e-02+1.58027406e-03j -4.34727967e-03-4.37485420e-03j\n",
      "  5.52428662e-03-8.09107067e-03j  1.27856362e-02-8.86777606e-03j\n",
      "  1.58034772e-02-7.03265817e-03j  1.43726109e-02-3.62962613e-03j\n",
      "  9.53762484e-03+2.77205351e-05j  3.11988182e-03+2.79133687e-03j\n",
      " -2.88855772e-03+3.98583910e-03j -6.88973979e-03+3.52518753e-03j\n",
      " -8.06164234e-03+1.83891735e-03j -6.48022745e-03-3.39647581e-04j\n",
      " -2.98213923e-03-2.24060655e-03j  1.16317017e-03-3.29458623e-03j\n",
      "  4.66040072e-03-3.27543823e-03j  6.55443561e-03-2.32046919e-03j\n",
      "  6.45982441e-03-8.39309967e-04j  4.60561481e-03+6.46713910e-04j\n",
      "  1.70305072e-03+1.67809055e-03j -1.30839470e-03+1.99031479e-03j\n",
      " -3.55316240e-03+1.57198321e-03j -4.46410432e-03+6.39337008e-04j\n",
      " -3.91512333e-03-4.55470704e-04j -2.21517249e-03-1.34736678e-03j\n",
      "  2.16941821e-05-1.77212670e-03j  2.08187977e-03-1.63752491e-03j\n",
      "  3.36796234e-03-1.03471618e-03j  3.56194277e-03-1.92381562e-04j\n",
      "  2.69369039e-03+6.06857567e-04j  1.10288218e-03+1.11875818e-03j\n",
      " -6.85802141e-04+1.20959242e-03j -2.13115173e-03+8.87938414e-04j\n",
      " -2.83532314e-03+2.89980471e-04j -2.64945048e-03-3.73192497e-04j\n",
      " -1.69842446e-03-8.86988109e-04j -3.23691827e-04-1.10003331e-03j\n",
      "  1.03320299e-03-9.66167821e-04j  1.96802806e-03-5.50784655e-04j\n",
      "  2.23053839e-03-2.31163625e-06j  1.78768321e-03+4.99799907e-04j\n",
      "  8.18478654e-04+8.02891007e-04j -3.53328013e-04+8.26548400e-04j\n",
      " -1.36485898e-03+5.82609459e-04j -1.92436792e-03+1.65335290e-04j\n",
      " -1.89335303e-03-2.83201160e-04j -1.31806803e-03-6.20218850e-04j\n",
      " -4.04279803e-04-7.46520958e-04j  5.53769965e-04-6.34530942e-04j\n",
      "  1.26638907e-03-3.32470769e-04j  1.53456042e-03+5.51266099e-05j\n",
      "  1.30402358e-03+4.03130715e-04j  6.73111891e-04+6.05785668e-04j\n",
      " -6.90061876e-04+1.15310278e-03j -1.34598620e-03+8.73234855e-04j\n",
      " -1.57590745e-03+3.38349418e-04j -1.33208142e-03-2.74218835e-04j\n",
      " -7.13003372e-04-7.71672736e-04j  7.40907625e-05-1.00560023e-03j\n",
      "  7.81642608e-04-9.15422236e-04j  1.19886817e-03-5.42938191e-04j\n",
      "  1.21381555e-03-1.48638839e-05j  8.42395862e-04+4.99838597e-04j\n",
      "  7.61978026e-04+2.98937118e-04j -6.28146108e-06+4.66469882e-04j\n",
      " -7.49927676e-04+4.87630352e-04j -1.24336228e-03+3.62937978e-04j\n",
      " -1.34707312e-03+1.37602992e-04j -1.04598072e-03-1.14471251e-04j\n",
      " -4.48463084e-04-3.14683457e-04j  2.51905321e-04-4.04024658e-04j\n",
      "  8.38713263e-04-3.60238399e-04j  1.13928738e-03-2.02947082e-04j\n",
      "  5.30457572e-04-5.30457572e-04j  2.30094211e-04-2.30094211e-04j\n",
      " -1.31148662e-04+1.31148662e-04j -4.40212149e-04+4.40212149e-04j\n",
      " -6.04735062e-04+6.04735062e-04j -5.80225984e-04+5.80225984e-04j\n",
      " -3.81573270e-04+3.81573270e-04j -7.60596683e-05+7.60596683e-05j\n",
      "  2.39237432e-04-2.39237432e-04j  4.68170147e-04-4.68170147e-04j]\n",
      "[0 1 1 0 0 0 0 1]\n"
     ]
    }
   ],
   "source": [
    "start = np.argmax(np.correlate(output, start_transmitted_f1)) + len(start_transmitted_f1)\n",
    "end = np.argmax(np.correlate(output, end_transmitted_f1))\n",
    "output_truncated =  low_pass(shift(output[start:end], -f_1), 2000)\n",
    "#print(output_truncated.shape)\n",
    "#print(decode_2(c_to_b(-output_truncated)))\n",
    "print(text_to_bit(string_text).shape)\n",
    "print(transmitter_2(b_to_c(text_to_bit('a'))))\n",
    "\n",
    "print(text_to_bit('a'))\n",
    "#print(bit_to_text(decode_2(c_to_b(-output_truncated))))\n",
    "#print(start, end)\n",
    "#print(bit_to_text(decode_2(-output_truncated)) == string_text)"
   ]
  },
  {
   "cell_type": "code",
   "execution_count": 279,
   "metadata": {},
   "outputs": [
    {
     "name": "stdout",
     "output_type": "stream",
     "text": [
      "[ 6.14301197e-05-3.58829379e-04j -6.26648587e-04-1.19793538e-03j\n",
      " -1.30725752e-03-8.01875896e-04j -7.94292409e-04-4.05417559e-04j\n",
      " -4.15879221e-04-8.40185431e-04j -6.78349439e-04-8.66899978e-04j\n",
      " -5.59983589e-04-3.37839800e-04j -1.40552116e-04-7.15317494e-05j\n",
      "  6.78427735e-05+3.91608571e-05j  1.97570820e-04+1.60673189e-04j\n",
      "  2.31494648e-04+1.70174929e-04j  1.50344026e-04+1.86930284e-04j\n",
      "  1.19458975e-04+1.76948845e-04j  6.88903732e-05+5.11500003e-05j\n",
      " -3.60536270e-05-5.72912981e-05j -9.85155474e-05-1.12267783e-04j\n",
      " -1.26793676e-04-1.30199213e-04j -1.07993217e-04-8.52012720e-05j\n",
      " -3.76621761e-05-3.05131280e-05j  2.20346876e-05+1.48583299e-05j\n",
      "  6.57232884e-05+5.98950610e-05j  8.42553650e-05+7.54207789e-05j\n",
      "  6.56126001e-05+7.49979650e-05j  4.42407628e-05+5.78863626e-05j\n",
      "  1.36860511e-05+7.42359937e-06j -3.04841011e-05-3.83058618e-05j\n",
      " -5.65182836e-05-6.15359422e-05j -6.32590846e-05-6.46665735e-05j\n",
      " -4.76401301e-05-3.92712498e-05j -9.64717132e-06-6.59551281e-06j\n",
      "  2.32861401e-05+2.04555598e-05j  4.43679989e-05+4.31656470e-05j\n",
      "  5.01816405e-05+4.81098116e-05j  3.52473691e-05+3.95339093e-05j\n",
      "  1.55614129e-05+2.12364943e-05j -6.78643199e-06-1.03681748e-05j\n",
      " -3.11930107e-05-3.59618144e-05j -4.17418123e-05-4.50751474e-05j\n",
      " -3.80286299e-05-3.93442225e-05j -2.09610290e-05-1.66550197e-05j\n",
      "  7.03731641e-06+9.12485440e-06j  2.86086687e-05+2.75616883e-05j\n",
      "  3.80325138e-05+3.84739158e-05j  3.48452579e-05+3.49665425e-05j\n",
      "  1.76405408e-05+2.03022576e-05j -2.43303777e-06+4.66672087e-07j\n",
      " -2.04092211e-05-2.31320547e-05j -3.41575219e-05-3.79935575e-05j\n",
      " -3.45880000e-05-3.75479761e-05j -2.30066221e-05-2.45058320e-05j\n",
      " -3.12532251e-06-6.03255502e-07j  2.06917389e-05+2.25002395e-05j\n",
      "  3.53408876e-05+3.54324781e-05j  3.62683613e-05+3.77119405e-05j\n",
      "  2.51409366e-05+2.64193124e-05j  3.79956789e-06+5.90581179e-06j\n",
      " -1.76098973e-05-1.59894036e-05j -3.25187333e-05-3.50649338e-05j\n",
      " -3.83007051e-05-4.20454014e-05j -2.99330034e-05-3.30757049e-05j\n",
      " -1.07941337e-05-1.26597140e-05j  1.27464409e-05+1.42338966e-05j\n",
      "  3.44201816e-05+3.62386093e-05j  4.32762693e-05+4.44056102e-05j\n",
      "  3.60308859e-05+3.84683442e-05j  1.64737599e-05+1.87486389e-05j\n",
      " -1.03518476e-05-8.26606597e-06j -3.35670783e-05-3.26522260e-05j\n",
      " -4.53236051e-05-4.81405477e-05j -4.30582408e-05-4.73528850e-05j\n",
      " -2.50472317e-05-2.89326970e-05j  2.64945938e-06+8.35887695e-08j\n",
      "  3.06223596e-05+3.13161543e-05j  5.04822122e-05+5.25682877e-05j\n",
      "  5.25490257e-05+5.50132569e-05j  3.52497694e-05+3.91890285e-05j\n",
      "  5.18018727e-06+8.89313848e-06j -2.87694021e-05-2.61430497e-05j\n",
      " -5.37022836e-05-5.32437870e-05j -6.05076734e-05-6.42232166e-05j\n",
      " -4.73505051e-05-5.32700898e-05j -1.62914926e-05-2.21248375e-05j\n",
      "  2.25730794e-05+1.83491174e-05j  5.56895280e-05+5.53876763e-05j\n",
      "  7.19977307e-05+7.48545275e-05j  6.28759042e-05+6.79656319e-05j\n",
      "  2.97085012e-05+3.71692993e-05j -1.61336924e-05-8.84256770e-06j\n",
      " -5.98966613e-05-5.50662151e-05j -8.47671167e-05-8.45149788e-05j\n",
      " -8.00954053e-05-8.67215613e-05j -4.61652939e-05-5.79056702e-05j\n",
      "  8.56544701e-06-4.91587580e-06j  6.60161237e-05+5.44677650e-05j\n",
      "  1.04614702e-04+1.00084242e-04j  1.07936025e-04+1.13413469e-04j\n",
      "  6.76567864e-05+8.52466002e-05j -9.42632388e-06+2.20104281e-05j\n",
      " -1.01835998e-04-5.86819763e-05j -1.81772150e-04-1.30933845e-04j\n",
      " -2.20688583e-04-1.67778892e-04j -2.00389762e-04-1.51967337e-04j\n",
      " -1.19684492e-04-8.09551709e-05j  4.17086602e-06+2.99242972e-05j\n",
      "  1.38787238e-04+1.50759323e-04j  2.45364365e-04+2.45214835e-04j\n",
      "  2.90191674e-04+2.81491895e-04j  2.55519009e-04+2.42813479e-04j\n",
      "  1.46321678e-04+1.34048731e-04j -9.48362073e-06-1.79453640e-05j\n",
      " -1.67933970e-04-1.70873397e-04j -2.81393426e-04-2.78909502e-04j\n",
      " -3.12934694e-04-3.06620205e-04j -2.48386582e-04-2.40676147e-04j\n",
      " -1.02135745e-04-9.55183369e-05j  8.55404985e-05+8.92252411e-05j\n",
      "  2.59335076e-04+2.59338185e-04j  3.65113072e-04+3.61862565e-04j\n",
      "  3.66749190e-04+3.61593465e-04j  2.58395456e-04+2.53109465e-04j\n",
      "  6.80708396e-05+6.42879365e-05j -1.49083387e-04-1.50343847e-04j\n",
      " -3.26413248e-04-3.24993982e-04j -4.05894722e-04-4.02470867e-04j\n",
      " -3.56790842e-04-3.52594228e-04j -1.86895840e-04-1.83294607e-04j\n",
      "  5.76087368e-05+5.95385670e-05j  3.04341832e-04+3.04123674e-04j\n",
      "  4.75877995e-04+4.73736961e-04j  5.13789924e-04+5.10533363e-04j\n",
      "  3.98211201e-04+3.94938831e-04j  1.56492248e-04+1.54235542e-04j\n",
      " -1.42462334e-04-1.43056525e-04j -4.07308867e-04-4.06155921e-04j\n",
      " -5.51684097e-04-5.49253991e-04j -5.21836666e-04-5.18974201e-04j\n",
      " -3.15780743e-04-3.13419066e-04j  1.26270084e-05+1.37646966e-05j\n",
      "  3.66984255e-04+3.66601235e-04j  6.35998685e-04+6.34296092e-04j\n",
      "  7.27762022e-04+7.25350007e-04j  6.00283210e-04+5.97967569e-04j\n",
      "  2.78375426e-04+2.76892649e-04j -1.49411319e-04-1.49624767e-04j\n",
      " -5.54286002e-04-5.53218958e-04j -8.05212602e-04-8.03264049e-04j\n",
      " -8.10472038e-04-8.08306261e-04j -5.49915305e-04-5.48238642e-04j\n",
      " -8.69915342e-05-8.63247059e-05j  4.44830090e-04+4.44311486e-04j\n",
      "  8.78974767e-04+8.77483415e-04j  1.06620768e-03+1.06426187e-03j\n",
      "  9.23750426e-04+9.21996433e-04j  4.67408594e-04+4.66408191e-04j\n",
      " -1.84901456e-04-1.84849172e-04j -8.41813764e-04-8.40760239e-04j\n",
      " -1.29312068e-03-1.29144015e-03j -1.37536764e-03-1.37362619e-03j\n",
      " -1.02867585e-03-1.02744250e-03j -3.25988635e-04-3.25650912e-04j\n",
      "  5.37142741e-04+5.36499431e-04j  1.29284564e-03+1.29145761e-03j\n",
      "  1.67936928e-03+1.67770945e-03j  1.52575045e-03+1.52436864e-03j\n",
      "  8.16593706e-04+8.15935815e-04j -2.85616477e-04-2.85351324e-04j\n",
      " -1.47235751e-03-1.47127644e-03j -2.37109316e-03-2.36956811e-03j\n",
      " -2.65740791e-03-2.65594873e-03j -2.16551396e-03-2.16459917e-03j\n",
      " -9.62199045e-04-9.62119819e-04j  6.43551485e-04+6.42783316e-04j\n",
      "  2.16652209e-03+2.16517327e-03j  3.07617736e-03+3.07470140e-03j\n",
      "  2.96051215e-03+2.95939779e-03j  1.67648714e-03+1.67609742e-03j\n",
      " -5.61548102e-04-5.61093413e-04j -3.19204732e-03-3.19090814e-03j\n",
      " -5.42721052e-03-5.42577072e-03j -6.46543523e-03-6.46417402e-03j\n",
      " -5.74592090e-03-5.74525417e-03j -3.17597346e-03-3.17611738e-03j\n",
      "  7.41584422e-04+7.40683079e-04j  4.93666005e-03+4.93530450e-03j\n",
      "  7.97687886e-03+7.97552082e-03j  8.42508752e-03+8.42417739e-03j\n",
      "  5.28005033e-03+5.27988858e-03j -1.60191591e-03-1.60127739e-03j\n",
      " -1.12174041e-02-1.12161785e-02j -2.13548845e-02-2.13534792e-02j\n",
      " -2.88157990e-02-2.88146806e-02j -2.99104240e-02-2.99099643e-02j\n",
      " -2.11551811e-02-2.11555341e-02j -4.26404859e-05-4.36910552e-05j\n",
      "  3.42752778e-02+3.42738762e-02j  8.05472450e-02+8.05459568e-02j\n",
      "  1.35343149e-01+1.35342403e-01j  1.93385080e-01+1.93385128e-01j\n",
      "  2.48255166e-01+2.48255996e-01j  2.93366138e-01+2.93367480e-01j\n",
      "  3.23020653e-01+3.23022067e-01j  3.33360228e-01+3.33361243e-01j\n",
      "  3.23020736e-01+3.23021011e-01j  2.93366267e-01+2.93365704e-01j\n",
      "  2.48255285e-01+2.48254060e-01j  1.93385132e-01+1.93383646e-01j\n",
      "  1.35343103e-01+1.35341845e-01j  8.05471108e-02+8.05465026e-02j\n",
      "  3.42751021e-02+3.42753549e-02j -4.27882735e-05-4.17458346e-05j\n",
      " -2.11552358e-02-2.11537377e-02j -2.99103510e-02-2.99088873e-02j\n",
      " -2.88156103e-02-2.88146677e-02j -2.13546390e-02-2.13545393e-02j\n",
      " -1.12171890e-02-1.12179805e-02j -1.60181642e-03-1.60325305e-03j\n",
      "  5.27998330e-03+5.27836568e-03j  8.42485954e-03+8.42359386e-03j\n",
      "  7.97655518e-03+7.97606839e-03j  4.93634732e-03+4.93681729e-03j\n",
      "  7.41395843e-04+7.42687593e-04j -3.17595825e-03-3.17425446e-03j\n",
      " -5.74568721e-03-5.74412647e-03j -6.46504414e-03-6.46414688e-03j\n",
      " -5.42678378e-03-5.42686321e-03j -3.19172979e-03-3.19278380e-03j\n",
      " -5.61459077e-04-5.63163440e-04j  1.67629734e-03+1.67448992e-03j\n",
      "  2.96008507e-03+2.95877001e-03j  3.07563922e-03+3.07526505e-03j\n",
      "  2.16604704e-03+2.16676367e-03j  6.43305683e-04+6.44907047e-04j\n",
      " -9.62114624e-04-9.60132452e-04j -2.16510258e-03-2.16338373e-03j\n",
      " -2.65678351e-03-2.65590418e-03j -2.37044979e-03-2.37072654e-03j\n",
      " -1.47190953e-03-1.47328731e-03j -2.85527942e-04-2.87586855e-04j\n",
      "  8.16267597e-04+8.14185497e-04j  1.52508930e-03+1.52367109e-03j\n",
      "  1.67857003e-03+1.67830682e-03j  1.29216472e-03+1.29318364e-03j\n",
      "  5.36814602e-04+5.38824667e-04j -3.25831014e-04-3.23457708e-04j\n",
      " -1.02805186e-03-1.02608558e-03j -1.37445263e-03-1.37355796e-03j\n",
      " -1.29219805e-03-1.29271159e-03j -8.41188217e-04-8.42995644e-04j\n",
      " -1.84799579e-04-1.87355945e-04j  4.66918281e-04+4.64426387e-04j\n",
      "  9.22790376e-04+9.21188381e-04j  1.06506338e-03+1.06491812e-03j\n",
      "  8.78011265e-04+8.79434068e-04j  4.44377026e-04+4.46967739e-04j\n",
      " -8.67507260e-05-8.37946307e-05j -5.49013305e-04-5.46651197e-04j\n",
      " -8.09161162e-04-8.08201484e-04j -8.03896527e-04-8.04724428e-04j\n",
      " -5.53397397e-04-5.55828152e-04j -1.49271907e-04-1.52583736e-04j\n",
      "  2.77667821e-04+2.74523764e-04j  5.98901987e-04+5.96974232e-04j\n",
      "  7.26113707e-04+7.26106459e-04j  6.34606125e-04+6.36629720e-04j\n",
      "  3.66323787e-04+3.69825696e-04j  1.29694334e-05+1.68778884e-05j\n",
      " -3.14473465e-04-3.11428226e-04j -5.19921566e-04-5.18802762e-04j\n",
      " -5.49744314e-04-5.51047262e-04j -4.05980420e-04-4.09434092e-04j\n",
      " -1.42230760e-04-1.46836516e-04j  1.55461893e-04+1.51152054e-04j\n",
      "  3.96153586e-04+3.93593765e-04j  5.11295456e-04+5.11469836e-04j\n",
      "  4.73730177e-04+4.76795637e-04j  3.03278854e-04+3.08449805e-04j\n",
      "  5.80796873e-05+6.38099144e-05j -1.84902473e-04-1.80476944e-04j\n",
      " -3.53785476e-04-3.52264113e-04j -4.02768102e-04-4.04939227e-04j\n",
      " -3.24184914e-04-3.29692125e-04j -1.48585011e-04-1.55931280e-04j\n",
      "  6.64831007e-05+5.95645209e-05j  2.55006230e-04+2.50896900e-04j\n",
      "  3.62463064e-04+3.62898591e-04j  3.61235693e-04+3.66665943e-04j\n",
      "  2.57203963e-04+2.66485195e-04j  8.61037247e-05+9.66532230e-05j\n",
      " -9.86697280e-05-9.02515342e-05j -2.42714211e-04-2.39686280e-04j\n",
      " -3.06567872e-04-3.10997528e-04j -2.76313700e-04-2.88222623e-04j\n",
      " -1.66062769e-04-1.83030741e-04j -1.21002709e-05-2.94826018e-05j\n",
      "  1.39055985e-04+1.27296207e-04j  2.44789129e-04+2.44797538e-04j\n",
      "  2.78422724e-04+2.95012441e-04j  2.35780489e-04+2.71185129e-04j\n",
      "  1.34722561e-04+1.87863844e-04j  8.29112157e-06+7.47651084e-05j\n",
      " -1.06058969e-04-3.32456975e-05j -1.77015615e-04-1.06783582e-04j\n",
      " -1.90275021e-04-1.29942832e-04j -1.48367160e-04-1.03408838e-04j\n",
      " -7.01705637e-05-4.35003404e-05j  1.67348762e-05+2.59530504e-05j\n",
      "  8.57414208e-05+8.01718790e-05j  1.17237331e-04+1.01960489e-04j\n",
      "  1.05736880e-04+8.77018291e-05j  6.03552329e-05+4.50301900e-05j\n",
      " -9.51343167e-07-9.55826812e-06j -5.60637272e-05-5.66460276e-05j\n",
      " -8.74118518e-05-8.19513038e-05j -8.75721365e-05-7.82530940e-05j\n",
      " -5.84934680e-05-4.82208216e-05j -1.20562180e-05-4.04552851e-06j\n",
      "  3.50007404e-05+3.91857736e-05j  6.78221000e-05+6.66997215e-05j\n",
      "  7.56236120e-05+6.96007567e-05j  5.71812152e-05+4.93732564e-05j\n",
      "  2.10422171e-05+1.38761007e-05j -2.01684985e-05-2.43800999e-05j\n",
      " -5.18963941e-05-5.20561551e-05j -6.40378114e-05-6.15421466e-05j\n",
      " -5.48176936e-05-5.02373239e-05j -2.78148401e-05-2.21765237e-05j\n",
      "  7.08195002e-06+1.18087127e-05j  3.76096802e-05+4.06975874e-05j\n",
      "  5.48188472e-05+5.45576242e-05j  5.24911156e-05+4.84550237e-05j\n",
      "  3.18713339e-05+2.67085946e-05j  1.85527933e-06-2.85108665e-06j\n",
      " -2.76348746e-05-3.02891052e-05j -4.60651213e-05-4.57991749e-05j\n",
      " -4.74595776e-05-4.60069785e-05j -3.36821902e-05-3.10437019e-05j\n",
      " -9.15492358e-06-5.36906274e-06j  1.76160371e-05+2.09980337e-05j\n",
      "  3.70439162e-05+3.98183380e-05j  4.41798071e-05+4.43928911e-05j\n",
      "  3.55764870e-05+3.21923603e-05j  1.39090172e-05+9.81787155e-06j\n",
      " -1.13203837e-05-1.48464974e-05j -3.21111525e-05-3.38687980e-05j\n",
      " -4.06402730e-05-3.98446740e-05j -3.37864421e-05-3.29422860e-05j\n",
      " -1.67088592e-05-1.54090849e-05j  5.60776432e-06+8.37263047e-06j\n",
      "  2.58814285e-05+2.85949986e-05j  3.62456019e-05+3.91079195e-05j\n",
      "  3.51525719e-05+3.58157444e-05j  2.12032210e-05+1.78431007e-05j\n",
      " -1.90840758e-06-5.62964224e-06j -2.34111512e-05-2.62599001e-05j\n",
      " -3.67936870e-05-3.78097062e-05j -3.62083879e-05-3.45487806e-05j\n",
      " -2.08265396e-05-2.05193134e-05j  1.18154380e-08-1.54799854e-07j\n",
      "  2.07027762e-05+2.28014450e-05j  3.53103927e-05+3.77878607e-05j\n",
      "  3.67900747e-05+4.01834472e-05j  2.71665803e-05+2.84513066e-05j\n",
      "  6.88389817e-06+2.88180299e-06j -1.94929176e-05-2.34602765e-05j\n",
      " -3.83994085e-05-4.08313898e-05j -4.44896899e-05-4.45748496e-05j\n",
      " -3.32500903e-05-2.98339177e-05j -5.84766645e-06-6.30974317e-06j\n",
      "  2.11725334e-05+1.84787339e-05j  4.11695304e-05+4.28011896e-05j\n",
      "  5.03739784e-05+5.32484572e-05j  4.09544034e-05+4.58271152e-05j\n",
      "  1.97744518e-05+2.22365844e-05j -1.07500482e-05-1.69203255e-05j\n",
      " -4.54894577e-05-5.08867962e-05j -6.38464740e-05-6.59485539e-05j\n",
      " -6.11918808e-05-5.93234632e-05j -3.30458959e-05-2.49598164e-05j\n",
      "  1.82878867e-05+1.58379969e-05j  5.89328632e-05+4.93425391e-05j\n",
      "  7.99470558e-05+8.15008988e-05j  8.37824698e-05+8.93243443e-05j\n",
      "  5.60937721e-05+6.59789514e-05j  1.32281324e-05+1.89241072e-05j\n",
      " -4.07352069e-05-5.60443808e-05j -1.03914527e-04-1.15504769e-04j\n",
      " -1.30053862e-04-1.30489451e-04j -1.13100310e-04-1.02724038e-04j\n",
      " -4.04876539e-05-1.11724038e-05j  9.64775567e-05+8.06977237e-05j\n",
      "  1.86011713e-04+1.35898571e-04j  2.10755379e-04+2.21574386e-04j\n",
      "  2.23685823e-04+2.58360744e-04j  1.44559614e-04+1.93400770e-04j\n",
      "  3.24116094e-05+5.08296765e-05j -1.52308293e-04-3.32977858e-04j\n",
      " -6.63342365e-04-7.18595865e-04j -1.04544253e-03-6.95297599e-04j\n",
      " -8.74932151e-04-8.50772991e-04j -9.72494776e-04-1.44835947e-03j]\n",
      "4190\n"
     ]
    }
   ],
   "source": [
    "c  = c_to_b(transmitter_2(b_to_c(text_to_bit('a')))) \n",
    "b = b_to_c(np.array([1,1]))\n",
    "b = transmitter_2(b)\n",
    "b = np.real(shift(b,3000))\n",
    "b = low_pass(shift(b,-3000),2000)\n",
    "print(b)\n",
    "t = transmitter_2(b)\n",
    "print(len(t))\n",
    "#print((c.shape[0]-200)/n_T)\n",
    "#print(text_to_bit('a'))"
   ]
  },
  {
   "cell_type": "code",
   "execution_count": 196,
   "metadata": {},
   "outputs": [
    {
     "name": "stdout",
     "output_type": "stream",
     "text": [
      "6590\n"
     ]
    }
   ],
   "source": [
    "print(end-start)"
   ]
  },
  {
   "cell_type": "code",
   "execution_count": 401,
   "metadata": {},
   "outputs": [],
   "source": [
    "np.savetxt('input.txt', message_transmitted)"
   ]
  },
  {
   "cell_type": "code",
   "execution_count": 402,
   "metadata": {},
   "outputs": [],
   "source": [
    "!python3 client.py --input_file='input.txt' --output_file='output.txt' --srv_hostname=iscsrv72.epfl.ch --srv_port=80"
   ]
  },
  {
   "cell_type": "code",
   "execution_count": 403,
   "metadata": {},
   "outputs": [],
   "source": [
    "output = np.loadtxt('output.txt')\n",
    "#output = message_transmitted"
   ]
  },
  {
   "cell_type": "code",
   "execution_count": 408,
   "metadata": {},
   "outputs": [],
   "source": [
    "f_trans = fourier_transform(output,1000,9000)"
   ]
  },
  {
   "cell_type": "code",
   "execution_count": 409,
   "metadata": {},
   "outputs": [
    {
     "name": "stdout",
     "output_type": "stream",
     "text": [
      "Part 1 has fallen\n"
     ]
    }
   ],
   "source": [
    "norm_1 = np.linalg.norm(f_trans[:2000])\n",
    "norm_2 = np.linalg.norm(f_trans[2000:4000])\n",
    "norm_3 = np.linalg.norm(f_trans[4000:6000])\n",
    "norm_4 = np.linalg.norm(f_trans[6000:8000])\n",
    "fallen_index = np.argmin(np.array([norm_1, norm_2, norm_3, norm_4]))\n",
    "\n",
    "#######\n",
    "#fallen_index = 2\n",
    "######\n",
    "\n",
    "print(\"Part {} has fallen\".format(fallen_index +1 ))"
   ]
  },
  {
   "cell_type": "code",
   "execution_count": 414,
   "metadata": {},
   "outputs": [
    {
     "name": "stdout",
     "output_type": "stream",
     "text": [
      "True\n",
      "Yw2gOypSJt70AcKgxH9v1QCSz4U9pjIWpdipde0H5xYcEm01JWGr7K1H5ll0eTCgYt4gv0AofyjrdYSzHncY7agwuYt5f7NuEnYjfvDzRPYHemNK4j2RhSuUn3jRCsOjr3Bur98qkYsaMxouGkHLsc6Nse4wc7pp\n"
     ]
    }
   ],
   "source": [
    "if fallen_index < 2:\n",
    "    output = np.convolve(shift(root_raised_12_Ts_rescaled, 7000), message_transmitted)\n",
    "    start = np.argmax(np.correlate(output, start_transmitted_f2)) + len(start_transmitted_f1)\n",
    "    end = np.argmax(np.correlate(output, end_transmitted_f2))\n",
    "    output_truncated = np.real(low_pass(shift(output[start:end], -f_2), 2000))\n",
    "\n",
    "else :\n",
    "    output = np.convolve(shift(root_raised_12_Ts_rescaled, 3000), message_transmitted)\n",
    "    start = np.argmax(np.correlate(output, start_transmitted_f1)) + len(start_transmitted_f1)\n",
    "    end = np.argmax(np.correlate(output, end_transmitted_f1))\n",
    "    output_truncated = np.real(low_pass(shift(output[start:end], -f_1), 2000))\n",
    "\n",
    "a = bit_to_text(decode_2(output_truncated))\n",
    "print(a == string_text)\n",
    "print(a)"
   ]
  },
  {
   "cell_type": "code",
   "execution_count": null,
   "metadata": {},
   "outputs": [],
   "source": [
    "plt.plot(convolution_start)"
   ]
  },
  {
   "cell_type": "code",
   "execution_count": null,
   "metadata": {},
   "outputs": [],
   "source": [
    "plt.plot(convolution_end)"
   ]
  },
  {
   "cell_type": "code",
   "execution_count": 196,
   "metadata": {
    "scrolled": true
   },
   "outputs": [
    {
     "name": "stdout",
     "output_type": "stream",
     "text": [
      "13381 14683\n"
     ]
    }
   ],
   "source": [
    "#start = np.argmax(convolution_start - norm_start*convolved_norm_output) + len(transformed_start)//2\n",
    "#end = np.argmax(convolution_end - norm_end*convolved_norm_output) - len(transformed_start)//2\n",
    "start = np.argmax(np.abs(convolution_start))+len(start_transmitted)\n",
    "end =  np.argmax(np.abs(convolution_end))\n",
    "print(start, end)"
   ]
  },
  {
   "cell_type": "code",
   "execution_count": 197,
   "metadata": {},
   "outputs": [
    {
     "name": "stdout",
     "output_type": "stream",
     "text": [
      "660\n"
     ]
    }
   ],
   "source": [
    "print(len(start_transmitted))"
   ]
  },
  {
   "cell_type": "markdown",
   "metadata": {},
   "source": [
    "Var_finale = a**2 * Var_debut + Var_bruit\n",
    "=> a_factor = sqrt((Var_finale - Var_bruit)/Var_debut)\n",
    "1) 0.34 2) 0.69"
   ]
  },
  {
   "cell_type": "code",
   "execution_count": 198,
   "metadata": {},
   "outputs": [
    {
     "name": "stdout",
     "output_type": "stream",
     "text": [
      "(1300,) (1302,)\n"
     ]
    }
   ],
   "source": [
    "print(np.shape(a_transmitted),np.shape(output_low_passed[start:end]))"
   ]
  },
  {
   "cell_type": "code",
   "execution_count": 47,
   "metadata": {},
   "outputs": [],
   "source": [
    "def decode(array) : \n",
    "    size = len(basis_2)\n",
    "    result = np.zeros(len(constellation))\n",
    "    for i in range(len(constellation))  :\n",
    "        result[i] = np.sum(basis_2*array[size*i: size*(i+1)])\n",
    "    return (np.sign(result)+1)/2"
   ]
  },
  {
   "cell_type": "code",
   "execution_count": 242,
   "metadata": {},
   "outputs": [],
   "source": [
    "def decode_2(array) :\n",
    "    #print(array.shape)\n",
    "    size_sent = int((len(array)-nb_samples_root_raised)/n_T + 1)\n",
    "    result = np.zeros(size_sent)\n",
    "    for i in range(size_sent):\n",
    "        #result[i] = np.sum(basis_2 * array[n_T*i : 200+n_T*i])\n",
    "        result[i] = np.sum(root_raised_12_Ts_rescaled * array[n_T*i : 200+n_T*i])\n",
    "    return (np.sign(result)+1)/2  "
   ]
  },
  {
   "cell_type": "code",
   "execution_count": 49,
   "metadata": {},
   "outputs": [
    {
     "data": {
      "text/plain": [
       "[<matplotlib.lines.Line2D at 0x7f5699457048>]"
      ]
     },
     "execution_count": 49,
     "metadata": {},
     "output_type": "execute_result"
    },
    {
     "data": {
      "image/png": "[encoded data removed]",
      "text/plain": [
       "<Figure size 432x288 with 1 Axes>"
      ]
     },
     "metadata": {
      "needs_background": "light"
     },
     "output_type": "display_data"
    }
   ],
   "source": [
    "plt.plot(output_low_passed)"
   ]
  },
  {
   "cell_type": "code",
   "execution_count": 50,
   "metadata": {},
   "outputs": [],
   "source": [
    "max_after_channel = np.max(convolution_start)\n",
    "#print(max_after_channel)\n",
    "#print(max_before_channel)\n",
    "output_low_passed_rescaled = max_before_channel / max_after_channel * output_low_passed\n",
    "#print(max_before_channel / max_after_channel)\n",
    "array_2_low_passed = np.real(output_low_passed_rescaled[start:end])\n"
   ]
  },
  {
   "cell_type": "code",
   "execution_count": 56,
   "metadata": {},
   "outputs": [
    {
     "name": "stdout",
     "output_type": "stream",
     "text": [
      "[-0.00437059 -0.00052362  0.0015302  ...  0.00184638  0.00216364\n",
      " -0.00291366]\n",
      "[0. 1. 0. 0. 0. 1. 1. 1. 0. 1. 1. 0. 0. 0. 0. 1. 0. 1. 1. 1. 0. 0. 1. 0.\n",
      " 0. 1. 1. 0. 0. 0. 0. 1. 0. 1. 1. 0. 0. 0. 0. 0. 1. 1. 1. 0. 0. 0. 0. 1.\n",
      " 0. 1. 1. 1. 1. 0. 1.]\n"
     ]
    },
    {
     "ename": "UnicodeDecodeError",
     "evalue": "'utf-8' codec can't decode byte 0xe1 in position 5: invalid continuation byte",
     "output_type": "error",
     "traceback": [
      "\u001b[0;31m---------------------------------------------------------------------------\u001b[0m",
      "\u001b[0;31mUnicodeDecodeError\u001b[0m                        Traceback (most recent call last)",
      "\u001b[0;32m<ipython-input-56-22e84a1a7984>\u001b[0m in \u001b[0;36m<module>\u001b[0;34m\u001b[0m\n\u001b[1;32m      3\u001b[0m \u001b[0mprint\u001b[0m\u001b[0;34m(\u001b[0m\u001b[0md\u001b[0m\u001b[0;34m)\u001b[0m\u001b[0;34m\u001b[0m\u001b[0;34m\u001b[0m\u001b[0m\n\u001b[1;32m      4\u001b[0m \u001b[0;34m\u001b[0m\u001b[0m\n\u001b[0;32m----> 5\u001b[0;31m \u001b[0mresult\u001b[0m \u001b[0;34m=\u001b[0m \u001b[0mbit_to_text\u001b[0m\u001b[0;34m(\u001b[0m\u001b[0md\u001b[0m\u001b[0;34m)\u001b[0m\u001b[0;34m\u001b[0m\u001b[0;34m\u001b[0m\u001b[0m\n\u001b[0m\u001b[1;32m      6\u001b[0m \u001b[0mprint\u001b[0m\u001b[0;34m(\u001b[0m\u001b[0mresult\u001b[0m\u001b[0;34m)\u001b[0m\u001b[0;34m\u001b[0m\u001b[0;34m\u001b[0m\u001b[0m\n\u001b[1;32m      7\u001b[0m \u001b[0;31m#print(result == string_text)\u001b[0m\u001b[0;34m\u001b[0m\u001b[0;34m\u001b[0m\u001b[0;34m\u001b[0m\u001b[0m\n",
      "\u001b[0;32m<ipython-input-16-8a83adea338e>\u001b[0m in \u001b[0;36mbit_to_text\u001b[0;34m(bit)\u001b[0m\n\u001b[1;32m      2\u001b[0m     \u001b[0mba\u001b[0m \u001b[0;34m=\u001b[0m \u001b[0mbitarray\u001b[0m\u001b[0;34m.\u001b[0m\u001b[0mbitarray\u001b[0m\u001b[0;34m(\u001b[0m\u001b[0mbit\u001b[0m\u001b[0;34m.\u001b[0m\u001b[0mtolist\u001b[0m\u001b[0;34m(\u001b[0m\u001b[0;34m)\u001b[0m\u001b[0;34m)\u001b[0m\u001b[0;34m\u001b[0m\u001b[0;34m\u001b[0m\u001b[0m\n\u001b[1;32m      3\u001b[0m     \u001b[0mr\u001b[0m \u001b[0;34m=\u001b[0m \u001b[0mba\u001b[0m\u001b[0;34m.\u001b[0m\u001b[0mtobytes\u001b[0m\u001b[0;34m(\u001b[0m\u001b[0;34m)\u001b[0m\u001b[0;34m\u001b[0m\u001b[0;34m\u001b[0m\u001b[0m\n\u001b[0;32m----> 4\u001b[0;31m     \u001b[0;32mreturn\u001b[0m  \u001b[0mstr\u001b[0m\u001b[0;34m(\u001b[0m\u001b[0mr\u001b[0m\u001b[0;34m,\u001b[0m\u001b[0;34m'utf8'\u001b[0m\u001b[0;34m)\u001b[0m\u001b[0;34m\u001b[0m\u001b[0;34m\u001b[0m\u001b[0m\n\u001b[0m",
      "\u001b[0;31mUnicodeDecodeError\u001b[0m: 'utf-8' codec can't decode byte 0xe1 in position 5: invalid continuation byte"
     ]
    }
   ],
   "source": [
    "d = decode_2(array_2_low_passed)\n",
    "print(message_transmitted)\n",
    "print(d)\n",
    "\n",
    "result = bit_to_text(d)\n",
    "print(result)\n",
    "#print(result == string_text)"
   ]
  },
  {
   "cell_type": "code",
   "execution_count": 135,
   "metadata": {},
   "outputs": [
    {
     "name": "stdout",
     "output_type": "stream",
     "text": [
      "(420,)\n",
      "(420,)\n",
      "(420,)\n",
      "[1. 1. 1. 1. 0. 0. 1. 1. 1. 0. 0. 0.]\n",
      "[1. 1. 1. 1. 0. 0. 1. 1. 1. 0. 0. 0.]\n"
     ]
    }
   ],
   "source": [
    "a = transmitter_2(b_to_c(np.array([1, 1, 1, 1, 0, 0, 1,1,1,0,0,0])))\n",
    "#a = transmitter_2(b_to_c(text_to_bit(\"Constantin leceli\")))\n",
    "print(a.shape)\n",
    "b = np.real(shift(a,3000) + shift(a, 7000))\n",
    "print(b.shape)\n",
    "c = np.real(low_pass(shift(b,-3000), 2000))\n",
    "print(c.shape)\n",
    "#c = np.real(c)\n",
    "\n",
    "complex_a = np.random.randn(100) + 1j * np.random.randn(100)\n",
    "real_a = np.random.randn(100)\n",
    "\n",
    "#print(complex_a)\n",
    "#print(c)\n",
    "\n",
    "print((decode_2(c)))\n",
    "print(decode_2(a))\n",
    "\n",
    "#print(root_raised_12_Ts_rescaled.shape)"
   ]
  },
  {
   "cell_type": "code",
   "execution_count": null,
   "metadata": {},
   "outputs": [],
   "source": [
    "a = transmitter_2(b_to_c(np.array([1,1,1,0,0,0])))\n",
    "b = np.real(shift(a,3000) )\n",
    "c = np.real(low_pass(shift(a,-3000), 2000))\n",
    "print(a-c)\n"
   ]
  },
  {
   "cell_type": "code",
   "execution_count": 666,
   "metadata": {},
   "outputs": [],
   "source": [
    "##### qam\n",
    "def qam(array):\n",
    "    pad_val = int(T//T_s)\n",
    "    int_size = pad_val + f_s\n",
    "    \n",
    "    loop_size = len(array)//2\n",
    "    \n",
    "    result = np.zeros(loop_size*int_size)\n",
    "    \n",
    "    for i in range(loop_size) : \n",
    "        r1 = array[2*i]*basis()\n",
    "        r1 =  np.pad(r1, (0,pad_val) ,'constant', constant_values = (0))\n",
    "        #need to pad to add 0 at the begining\n",
    "        \n",
    "        r2  = array[2*i+1]*basis()\n",
    "        r2 =  np.pad(r2, (pad_val,0) ,'constant', constant_values = (0))\n",
    "        r = r1+r2\n",
    "        result[i*int_size : (i+1)*int_size ] = r\n",
    "        \n",
    "    return result"
   ]
  },
  {
   "cell_type": "code",
   "execution_count": 312,
   "metadata": {},
   "outputs": [
    {
     "ename": "TypeError",
     "evalue": "basis() missing 2 required positional arguments: 'x' and 't'",
     "output_type": "error",
     "traceback": [
      "\u001b[0;31m---------------------------------------------------------------------------\u001b[0m",
      "\u001b[0;31mTypeError\u001b[0m                                 Traceback (most recent call last)",
      "\u001b[0;32m<ipython-input-312-ccd16adc11c0>\u001b[0m in \u001b[0;36m<module>\u001b[0;34m\u001b[0m\n\u001b[1;32m      1\u001b[0m \u001b[0ma\u001b[0m \u001b[0;34m=\u001b[0m \u001b[0;34m[\u001b[0m\u001b[0;36m1\u001b[0m\u001b[0;34m,\u001b[0m\u001b[0;34m-\u001b[0m\u001b[0;36m1\u001b[0m\u001b[0;34m,\u001b[0m\u001b[0;36m1\u001b[0m\u001b[0;34m]\u001b[0m\u001b[0;34m\u001b[0m\u001b[0;34m\u001b[0m\u001b[0m\n\u001b[0;32m----> 2\u001b[0;31m \u001b[0mqam\u001b[0m\u001b[0;34m(\u001b[0m\u001b[0ma\u001b[0m\u001b[0;34m)\u001b[0m\u001b[0;34m\u001b[0m\u001b[0;34m\u001b[0m\u001b[0m\n\u001b[0m",
      "\u001b[0;32m<ipython-input-311-feccf0445498>\u001b[0m in \u001b[0;36mqam\u001b[0;34m(array)\u001b[0m\n\u001b[1;32m      9\u001b[0m \u001b[0;34m\u001b[0m\u001b[0m\n\u001b[1;32m     10\u001b[0m     \u001b[0;32mfor\u001b[0m \u001b[0mi\u001b[0m \u001b[0;32min\u001b[0m \u001b[0mrange\u001b[0m\u001b[0;34m(\u001b[0m\u001b[0mloop_size\u001b[0m\u001b[0;34m)\u001b[0m \u001b[0;34m:\u001b[0m\u001b[0;34m\u001b[0m\u001b[0;34m\u001b[0m\u001b[0m\n\u001b[0;32m---> 11\u001b[0;31m         \u001b[0mr1\u001b[0m \u001b[0;34m=\u001b[0m \u001b[0marray\u001b[0m\u001b[0;34m[\u001b[0m\u001b[0;36m2\u001b[0m\u001b[0;34m*\u001b[0m\u001b[0mi\u001b[0m\u001b[0;34m]\u001b[0m\u001b[0;34m*\u001b[0m\u001b[0mbasis\u001b[0m\u001b[0;34m(\u001b[0m\u001b[0;34m)\u001b[0m\u001b[0;34m\u001b[0m\u001b[0;34m\u001b[0m\u001b[0m\n\u001b[0m\u001b[1;32m     12\u001b[0m         \u001b[0mr1\u001b[0m \u001b[0;34m=\u001b[0m  \u001b[0mnp\u001b[0m\u001b[0;34m.\u001b[0m\u001b[0mpad\u001b[0m\u001b[0;34m(\u001b[0m\u001b[0mr1\u001b[0m\u001b[0;34m,\u001b[0m \u001b[0;34m(\u001b[0m\u001b[0;36m0\u001b[0m\u001b[0;34m,\u001b[0m\u001b[0mpad_val\u001b[0m\u001b[0;34m)\u001b[0m \u001b[0;34m,\u001b[0m\u001b[0;34m'constant'\u001b[0m\u001b[0;34m,\u001b[0m \u001b[0mconstant_values\u001b[0m \u001b[0;34m=\u001b[0m \u001b[0;34m(\u001b[0m\u001b[0;36m0\u001b[0m\u001b[0;34m)\u001b[0m\u001b[0;34m)\u001b[0m\u001b[0;34m\u001b[0m\u001b[0;34m\u001b[0m\u001b[0m\n\u001b[1;32m     13\u001b[0m         \u001b[0;31m#need to pad to add 0 at the begining\u001b[0m\u001b[0;34m\u001b[0m\u001b[0;34m\u001b[0m\u001b[0;34m\u001b[0m\u001b[0m\n",
      "\u001b[0;31mTypeError\u001b[0m: basis() missing 2 required positional arguments: 'x' and 't'"
     ]
    }
   ],
   "source": [
    "a = [1,-1,1]\n",
    "qam(a)"
   ]
  },
  {
   "cell_type": "code",
   "execution_count": null,
   "metadata": {},
   "outputs": [],
   "source": []
  }
 ],
 "metadata": {
  "kernelspec": {
   "display_name": "Python 3",
   "language": "python",
   "name": "python3"
  },
  "language_info": {
   "codemirror_mode": {
    "name": "ipython",
    "version": 3
   },
   "file_extension": ".py",
   "mimetype": "text/x-python",
   "name": "python",
   "nbconvert_exporter": "python",
   "pygments_lexer": "ipython3",
   "version": "3.7.1"
  }
 },
 "nbformat": 4,
 "nbformat_minor": 2
}
