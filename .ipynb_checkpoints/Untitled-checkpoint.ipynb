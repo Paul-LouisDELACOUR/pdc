{
 "cells": [
  {
   "cell_type": "code",
   "execution_count": 38,
   "metadata": {},
   "outputs": [],
   "source": [
    "import numpy as np\n",
    "import math \n",
    "import bitarray\n",
    "from math import *"
   ]
  },
  {
   "cell_type": "code",
   "execution_count": 39,
   "metadata": {},
   "outputs": [],
   "source": [
    "## shift : the amount on which the basis function is shifted by\n",
    "## number : the number of the basis function start at 0\n",
    "##number = t\n",
    "T = 1 ##The lenght of the basis function\n",
    "value = 1/math.sqrt(T) ## The height of the function considering it is a rect\n",
    "\n",
    "f_s = 22050\n",
    "T_s = 1/f_s\n",
    "sigma = 0.05\n",
    "\n",
    "\n",
    "#x the basis number\n",
    "def basis(x,t):\n",
    "    if x >T and x<=(1+T) : \n",
    "        return value\n",
    "    \n",
    "def r(t) :\n",
    "    return sinc(t)\n",
    "\n",
    "def basis_rect(t) :\n",
    "    return "
   ]
  },
  {
   "cell_type": "code",
   "execution_count": 142,
   "metadata": {},
   "outputs": [],
   "source": [
    "B = 0.5\n",
    "T = 2\n",
    "\n",
    "def root_raised_cos(t):\n",
    "    return 4*B / (pi*sqrt(T)) * (cos((1+B)*pi*t/T) + (1-B)*pi/(4*B)*np.sinc((1-B)*t/T))/ (1 - (4*B*t/T)**2)"
   ]
  },
  {
   "cell_type": "code",
   "execution_count": 143,
   "metadata": {},
   "outputs": [
    {
     "name": "stdout",
     "output_type": "stream",
     "text": [
      "0.7962022183108991\n"
     ]
    }
   ],
   "source": [
    "print(root_raised_cos(-0.12498866213151927))"
   ]
  },
  {
   "cell_type": "code",
   "execution_count": 147,
   "metadata": {},
   "outputs": [],
   "source": [
    "##basis discrete\n",
    "## vector of the basis function\n",
    "def basis():\n",
    "    func = np.vectorize(root_raised_cos)\n",
    "    linspace = np.linspace(-2*T, 2*T, num = f_s)\n",
    "    return func(linspace)"
   ]
  },
  {
   "cell_type": "code",
   "execution_count": 158,
   "metadata": {},
   "outputs": [
    {
     "name": "stdout",
     "output_type": "stream",
     "text": [
      "0.8037115328021835\n"
     ]
    }
   ],
   "source": [
    "print(basis().max())"
   ]
  },
  {
   "cell_type": "code",
   "execution_count": 187,
   "metadata": {},
   "outputs": [],
   "source": [
    "##### Design a transmitter that reads a text file and returns real-valued samples of an\n",
    "#information-bearing signal s[n].\n",
    "#arg text_file : an array of sended values\n",
    "const_size = 2\n",
    "def transmitter(text_file):\n",
    "    size = text_file.shape[0]\n",
    "    result = np.zeros(size*f_s)\n",
    "    for i in range(size):\n",
    "        result[f_s*i:f_s*(i+1)] = text_file[i]*basis()\n",
    "    return result"
   ]
  },
  {
   "cell_type": "code",
   "execution_count": 223,
   "metadata": {},
   "outputs": [],
   "source": [
    "a = transmitter(b_to_c(text_to_bit(\"ab\")))"
   ]
  },
  {
   "cell_type": "code",
   "execution_count": 227,
   "metadata": {},
   "outputs": [
    {
     "name": "stdout",
     "output_type": "stream",
     "text": [
      "(352800,)\n"
     ]
    }
   ],
   "source": [
    "print(a.shape)"
   ]
  },
  {
   "cell_type": "code",
   "execution_count": 228,
   "metadata": {},
   "outputs": [],
   "source": [
    "training_sequence_start = np.ones(10000)\n",
    "training_sequence_end = (-1) * np.ones(10000)"
   ]
  },
  {
   "cell_type": "code",
   "execution_count": 229,
   "metadata": {},
   "outputs": [],
   "source": [
    "a = np.concatenate((training_sequence_start, a, training_sequence_end), axis = 0)"
   ]
  },
  {
   "cell_type": "code",
   "execution_count": 230,
   "metadata": {},
   "outputs": [
    {
     "name": "stdout",
     "output_type": "stream",
     "text": [
      "(372800,)\n"
     ]
    }
   ],
   "source": [
    "print(a.shape)"
   ]
  },
  {
   "cell_type": "code",
   "execution_count": 231,
   "metadata": {},
   "outputs": [],
   "source": [
    "def text_to_bit(text):\n",
    "    ba = bitarray.bitarray()\n",
    "    ba.frombytes(text.encode('utf-8'))\n",
    "    ba = np.fromiter(map(lambda x : 1 if x else 0, ba.tolist()), dtype = int)\n",
    "    return ba"
   ]
  },
  {
   "cell_type": "code",
   "execution_count": 232,
   "metadata": {},
   "outputs": [],
   "source": [
    "#right now convert (0,1) array to (-1 , 1) array\n",
    "def b_to_c(array):\n",
    "    c_s = (array -1/2)*2\n",
    "    return c_s"
   ]
  },
  {
   "cell_type": "code",
   "execution_count": 233,
   "metadata": {},
   "outputs": [],
   "source": [
    "\n",
    "ba = bitarray.bitarray()\n",
    "ba.frombytes(\"ba\".encode('utf-8'))\n",
    "ba = list(map(lambda x : 1 if x else 0, ba.tolist()))"
   ]
  },
  {
   "cell_type": "code",
   "execution_count": 234,
   "metadata": {},
   "outputs": [],
   "source": [
    "np.savetxt('input.txt', a)"
   ]
  },
  {
   "cell_type": "code",
   "execution_count": 235,
   "metadata": {},
   "outputs": [],
   "source": [
    "!python3 client.py --input_file='input.txt' --output_file='output.txt' --srv_hostname=iscsrv72.epfl.ch --srv_port=80"
   ]
  },
  {
   "cell_type": "code",
   "execution_count": 236,
   "metadata": {},
   "outputs": [],
   "source": [
    "array_2 = np.loadtxt('output.txt')"
   ]
  },
  {
   "cell_type": "code",
   "execution_count": 237,
   "metadata": {},
   "outputs": [],
   "source": [
    "import sys\n",
    "np.set_printoptions(threshold=2)"
   ]
  },
  {
   "cell_type": "code",
   "execution_count": 238,
   "metadata": {},
   "outputs": [
    {
     "data": {
      "text/plain": [
       "(390237,)"
      ]
     },
     "execution_count": 238,
     "metadata": {},
     "output_type": "execute_result"
    }
   ],
   "source": [
    "array_2.shape"
   ]
  },
  {
   "cell_type": "code",
   "execution_count": 239,
   "metadata": {},
   "outputs": [
    {
     "name": "stdout",
     "output_type": "stream",
     "text": [
      "[-1.17356457e-03 -1.67067720e-04  9.77446703e-04 ...  6.03262395e-04\n",
      "  2.07557637e-05 -1.85228881e-04]\n"
     ]
    }
   ],
   "source": [
    "print(array_2)"
   ]
  },
  {
   "cell_type": "code",
   "execution_count": 240,
   "metadata": {},
   "outputs": [],
   "source": [
    "convolution_start = np.convolve(array_2, training_sequence_start)\n",
    "convolution_end = np.convolve(array_2, training_sequence_end)"
   ]
  },
  {
   "cell_type": "code",
   "execution_count": 241,
   "metadata": {},
   "outputs": [
    {
     "name": "stdout",
     "output_type": "stream",
     "text": [
      "26932 389732\n"
     ]
    }
   ],
   "source": [
    "start = np.argmax(convolution_start)\n",
    "end = np.argmax(convolution_end)\n",
    "print(start, end)"
   ]
  },
  {
   "cell_type": "code",
   "execution_count": 242,
   "metadata": {},
   "outputs": [],
   "source": [
    "array_2 = array_2[start:end]"
   ]
  },
  {
   "cell_type": "code",
   "execution_count": 243,
   "metadata": {},
   "outputs": [
    {
     "name": "stdout",
     "output_type": "stream",
     "text": [
      "(362800,)\n"
     ]
    }
   ],
   "source": [
    "print(array_2.shape)"
   ]
  },
  {
   "cell_type": "code",
   "execution_count": null,
   "metadata": {},
   "outputs": [],
   "source": [
    "def decode(array_2) : \n",
    "    basis*array_2[]"
   ]
  },
  {
   "cell_type": "markdown",
   "metadata": {},
   "source": [
    "Do we have to do a discretization of a continuous signal to send this array ? When you apply the noise, do you reconstruct it or apply it on the discrete signal.\n",
    "\n",
    "Do we us have to reconstruct a countinuous signal \n"
   ]
  }
 ],
 "metadata": {
  "kernelspec": {
   "display_name": "Python 3",
   "language": "python",
   "name": "python3"
  },
  "language_info": {
   "codemirror_mode": {
    "name": "ipython",
    "version": 3
   },
   "file_extension": ".py",
   "mimetype": "text/x-python",
   "name": "python",
   "nbconvert_exporter": "python",
   "pygments_lexer": "ipython3",
   "version": "3.7.1"
  }
 },
 "nbformat": 4,
 "nbformat_minor": 2
}
