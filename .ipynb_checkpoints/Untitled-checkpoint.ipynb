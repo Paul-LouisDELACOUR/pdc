{
 "cells": [
  {
   "cell_type": "code",
   "execution_count": 1,
   "metadata": {},
   "outputs": [],
   "source": [
    "import numpy as np\n",
    "import math \n",
    "import bitarray\n",
    "from math import *"
   ]
  },
  {
   "cell_type": "code",
   "execution_count": 2,
   "metadata": {},
   "outputs": [],
   "source": [
    "## shift : the amount on which the basis function is shifted by\n",
    "## number : the number of the basis function start at 0\n",
    "##number = t\n",
    "T = 1 ##The lenght of the basis function\n",
    "value = 1/math.sqrt(T) ## The height of the function considering it is a rect\n",
    "\n",
    "f_s = 22050\n",
    "T_s = 1/f_s\n",
    "sigma = 0.05\n",
    "\n",
    "\n",
    "#x the basis number\n",
    "def basis(x,t):\n",
    "    if x >T and x<=(1+T) : \n",
    "        return value\n",
    "    \n",
    "def r(t) :\n",
    "    return sinc(t)\n",
    "\n",
    "def basis_rect(t) :\n",
    "    return "
   ]
  },
  {
   "cell_type": "code",
   "execution_count": 3,
   "metadata": {},
   "outputs": [],
   "source": [
    "B = 0.5\n",
    "T = 2\n",
    "\n",
    "def root_raised_cos(t):\n",
    "    return 4*B / (pi*sqrt(T)) * (cos((1+B)*pi*t/T) + (1-B)*pi/(4*B)*np.sinc((1-B)*t/T))/ (1 - (4*B*t/T)**2)"
   ]
  },
  {
   "cell_type": "code",
   "execution_count": 4,
   "metadata": {},
   "outputs": [
    {
     "name": "stdout",
     "output_type": "stream",
     "text": [
      "0.7962022183108991\n"
     ]
    }
   ],
   "source": [
    "print(root_raised_cos(-0.12498866213151927))"
   ]
  },
  {
   "cell_type": "code",
   "execution_count": 5,
   "metadata": {},
   "outputs": [],
   "source": [
    "##basis discrete\n",
    "## vector of the basis function\n",
    "def basis():\n",
    "    func = np.vectorize(root_raised_cos)\n",
    "    linspace = np.linspace(-2*T, 2*T, num = f_s)\n",
    "    return func(linspace)"
   ]
  },
  {
   "cell_type": "code",
   "execution_count": 40,
   "metadata": {},
   "outputs": [],
   "source": [
    "def root_raised_shifted():\n",
    "    cos_discrete = np.cos(np.linspace(-2*T, 2*T, num = f_s))\n",
    "    return np.convolve(basis(), cos_discrete)"
   ]
  },
  {
   "cell_type": "code",
   "execution_count": 43,
   "metadata": {},
   "outputs": [
    {
     "data": {
      "text/plain": [
       "(44099,)"
      ]
     },
     "execution_count": 43,
     "metadata": {},
     "output_type": "execute_result"
    }
   ],
   "source": [
    "root_raised_shifted().shape"
   ]
  },
  {
   "cell_type": "code",
   "execution_count": 44,
   "metadata": {},
   "outputs": [
    {
     "data": {
      "text/plain": [
       "(22050,)"
      ]
     },
     "execution_count": 44,
     "metadata": {},
     "output_type": "execute_result"
    }
   ],
   "source": [
    "basis().shape"
   ]
  },
  {
   "cell_type": "code",
   "execution_count": 6,
   "metadata": {},
   "outputs": [],
   "source": [
    "def text_to_bit(text):\n",
    "    ba = bitarray.bitarray()\n",
    "    ba.frombytes(text.encode('utf-8'))\n",
    "    ba = np.fromiter(map(lambda x : 1 if x else 0, ba.tolist()), dtype = int)\n",
    "    return ba"
   ]
  },
  {
   "cell_type": "code",
   "execution_count": 7,
   "metadata": {},
   "outputs": [],
   "source": [
    "#right now convert (0,1) array to (-1 , 1) array\n",
    "def b_to_c(array):\n",
    "    c_s = (array -1/2)*2\n",
    "    return c_s"
   ]
  },
  {
   "cell_type": "code",
   "execution_count": 8,
   "metadata": {},
   "outputs": [],
   "source": [
    "##### Design a transmitter that reads a text file and returns real-valued samples of an\n",
    "#information-bearing signal s[n].\n",
    "#arg text_file : an array of sended values\n",
    "const_size = 2\n",
    "def transmitter(text_file):\n",
    "    size = text_file.shape[0]\n",
    "    result = np.zeros(size*f_s)\n",
    "    for i in range(size):\n",
    "        result[f_s*i:f_s*(i+1)] = text_file[i]*basis()\n",
    "    return result"
   ]
  },
  {
   "cell_type": "code",
   "execution_count": 9,
   "metadata": {},
   "outputs": [],
   "source": [
    "string_text = \"ab\"\n",
    "constellation = b_to_c(text_to_bit(string_text))\n",
    "a = transmitter(constellation)"
   ]
  },
  {
   "cell_type": "code",
   "execution_count": 10,
   "metadata": {},
   "outputs": [
    {
     "name": "stdout",
     "output_type": "stream",
     "text": [
      "(352800,)\n"
     ]
    }
   ],
   "source": [
    "print(a.shape)"
   ]
  },
  {
   "cell_type": "code",
   "execution_count": 11,
   "metadata": {},
   "outputs": [],
   "source": [
    "training_sequence_start = np.ones(10000)\n",
    "training_sequence_end = (-1) * np.ones(10000)"
   ]
  },
  {
   "cell_type": "code",
   "execution_count": 12,
   "metadata": {},
   "outputs": [],
   "source": [
    "a = np.concatenate((training_sequence_start, a, training_sequence_end), axis = 0)"
   ]
  },
  {
   "cell_type": "code",
   "execution_count": 13,
   "metadata": {},
   "outputs": [],
   "source": [
    "ba = bitarray.bitarray()\n",
    "ba.frombytes(\"ba\".encode('utf-8'))\n",
    "ba = list(map(lambda x : 1 if x else 0, ba.tolist()))"
   ]
  },
  {
   "cell_type": "code",
   "execution_count": 14,
   "metadata": {},
   "outputs": [],
   "source": [
    "np.savetxt('input.txt', a)"
   ]
  },
  {
   "cell_type": "code",
   "execution_count": 15,
   "metadata": {},
   "outputs": [],
   "source": [
    "!python3 client.py --input_file='input.txt' --output_file='output.txt' --srv_hostname=iscsrv72.epfl.ch --srv_port=80"
   ]
  },
  {
   "cell_type": "code",
   "execution_count": 16,
   "metadata": {},
   "outputs": [],
   "source": [
    "array_2 = np.loadtxt('output.txt')"
   ]
  },
  {
   "cell_type": "code",
   "execution_count": 17,
   "metadata": {},
   "outputs": [
    {
     "name": "stdout",
     "output_type": "stream",
     "text": [
      "[ 0.00102803  0.00022043 -0.0002193  ...  0.0005225  -0.00032059\n",
      "  0.00166591]\n"
     ]
    }
   ],
   "source": [
    "print(array_2)"
   ]
  },
  {
   "cell_type": "code",
   "execution_count": 18,
   "metadata": {},
   "outputs": [],
   "source": [
    "convolution_start = np.convolve(array_2, training_sequence_start)\n",
    "convolution_end = np.convolve(array_2, training_sequence_end)"
   ]
  },
  {
   "cell_type": "code",
   "execution_count": 19,
   "metadata": {},
   "outputs": [
    {
     "name": "stdout",
     "output_type": "stream",
     "text": [
      "24661 377461\n"
     ]
    }
   ],
   "source": [
    "start = np.argmax(convolution_start) + int(len(training_sequence_start)//2)\n",
    "end = np.argmax(convolution_end) - int(len(training_sequence_end) //2)\n",
    "print(start, end)"
   ]
  },
  {
   "cell_type": "code",
   "execution_count": 20,
   "metadata": {},
   "outputs": [
    {
     "name": "stdout",
     "output_type": "stream",
     "text": [
      "5000\n"
     ]
    }
   ],
   "source": [
    "print(len(training_sequence_start)//2)"
   ]
  },
  {
   "cell_type": "code",
   "execution_count": 21,
   "metadata": {},
   "outputs": [],
   "source": [
    "array_2 = array_2[start:end]"
   ]
  },
  {
   "cell_type": "code",
   "execution_count": 22,
   "metadata": {},
   "outputs": [
    {
     "name": "stdout",
     "output_type": "stream",
     "text": [
      "(352800,)\n"
     ]
    }
   ],
   "source": [
    "print(array_2.shape)"
   ]
  },
  {
   "cell_type": "code",
   "execution_count": 35,
   "metadata": {},
   "outputs": [
    {
     "name": "stdout",
     "output_type": "stream",
     "text": [
      "0.16005989101521087\n"
     ]
    }
   ],
   "source": [
    "print(array_2.max())"
   ]
  },
  {
   "cell_type": "code",
   "execution_count": 36,
   "metadata": {},
   "outputs": [],
   "source": [
    "def decode(array_2) : \n",
    "    size = 22050\n",
    "    result = np.zeros(len(constellation))\n",
    "    for i in range(len(constellation))  :\n",
    "        result[i] = np.sum(basis()*array_2[size*i: size*(i+1)])\n",
    "    return result "
   ]
  },
  {
   "cell_type": "code",
   "execution_count": 37,
   "metadata": {},
   "outputs": [
    {
     "data": {
      "text/plain": [
       "array([-0.01378613, -0.0063251 ,  0.01320667, -0.02406259,  0.03089857,\n",
       "        0.03546114, -0.00733223,  0.00827055, -0.00202493, -0.02212225,\n",
       "        0.00977308, -0.03215696,  0.06111117, -0.00795906,  0.03201219,\n",
       "       -0.02254715])"
      ]
     },
     "execution_count": 37,
     "metadata": {},
     "output_type": "execute_result"
    }
   ],
   "source": [
    "decode(array_2)"
   ]
  },
  {
   "cell_type": "code",
   "execution_count": 31,
   "metadata": {},
   "outputs": [
    {
     "name": "stdout",
     "output_type": "stream",
     "text": [
      "[-1.  1.  1. -1. -1. -1. -1.  1. -1.  1.  1. -1. -1. -1.  1. -1.]\n"
     ]
    }
   ],
   "source": [
    "print(constellation)"
   ]
  },
  {
   "cell_type": "markdown",
   "metadata": {},
   "source": [
    "Do we have to do a discretization of a continuous signal to send this array ? When you apply the noise, do you reconstruct it or apply it on the discrete signal.\n",
    "\n",
    "Do we us have to reconstruct a countinuous signal \n"
   ]
  }
 ],
 "metadata": {
  "kernelspec": {
   "display_name": "Python 3",
   "language": "python",
   "name": "python3"
  },
  "language_info": {
   "codemirror_mode": {
    "name": "ipython",
    "version": 3
   },
   "file_extension": ".py",
   "mimetype": "text/x-python",
   "name": "python",
   "nbconvert_exporter": "python",
   "pygments_lexer": "ipython3",
   "version": "3.7.1"
  }
 },
 "nbformat": 4,
 "nbformat_minor": 2
}
