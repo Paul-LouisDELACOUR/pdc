{
 "cells": [
  {
   "cell_type": "code",
   "execution_count": 4,
   "metadata": {},
   "outputs": [],
   "source": [
    "import numpy as np\n",
    "import math \n",
    "import bitarray\n",
    "from math import *\n",
    "from matplotlib import pyplot as plt"
   ]
  },
  {
   "cell_type": "code",
   "execution_count": 5,
   "metadata": {},
   "outputs": [],
   "source": [
    "## shift : the amount on which the basis function is shifted by\n",
    "## number : the number of the basis function start at 0\n",
    "##number = t\n",
    "T = 1 ##The lenght of the basis function\n",
    "value = 1/math.sqrt(T) ## The height of the function considering it is a rect\n",
    "\n",
    "f_s = 22050\n",
    "T_s = 1/f_s\n",
    "sigma = 0.05\n",
    "\n",
    "\n",
    "#x the basis number\n",
    "def basis(x,t):\n",
    "    if x >T and x<=(1+T) : \n",
    "        return value\n",
    "    \n",
    "def r(t) :\n",
    "    return sinc(t)\n",
    "\n",
    "def basis_rect(t) :\n",
    "    return "
   ]
  },
  {
   "cell_type": "code",
   "execution_count": 16,
   "metadata": {},
   "outputs": [],
   "source": [
    "B = 0.5\n",
    "T = 2\n",
    "\n",
    "def root_raised_cos(t):\n",
    "    return 4*B / (pi*sqrt(T)) * (cos((1+B)*pi*t/T) + (1-B)*pi/(4*B)*np.sinc((1-B)*t/T))/ (1 - (4*B*t/T)**2)"
   ]
  },
  {
   "cell_type": "code",
   "execution_count": 17,
   "metadata": {},
   "outputs": [
    {
     "name": "stdout",
     "output_type": "stream",
     "text": [
      "0.7962022183108991\n"
     ]
    }
   ],
   "source": [
    "print(root_raised_cos(-0.12498866213151927))"
   ]
  },
  {
   "cell_type": "code",
   "execution_count": 18,
   "metadata": {},
   "outputs": [],
   "source": [
    "##basis discrete\n",
    "## vector of the basis function\n",
    "def basis():\n",
    "    func = np.vectorize(root_raised_cos)\n",
    "    linspace = np.linspace(-2*T, 2*T, num = f_s)\n",
    "    return func(linspace)"
   ]
  },
  {
   "cell_type": "code",
   "execution_count": 24,
   "metadata": {},
   "outputs": [],
   "source": [
    "def root_raised_shifted():\n",
    "    cos_discrete = np.cos(np.linspace(-2*T, 2*T, num = f_s))\n",
    "    return np.convolve(basis(), cos_discrete)"
   ]
  },
  {
   "cell_type": "code",
   "execution_count": 25,
   "metadata": {},
   "outputs": [],
   "source": [
    "def text_to_bit(text):\n",
    "    ba = bitarray.bitarray()\n",
    "    ba.frombytes(text.encode('utf-8'))\n",
    "    ba = np.fromiter(map(lambda x : 1 if x else 0, ba.tolist()), dtype = int)\n",
    "    return ba"
   ]
  },
  {
   "cell_type": "code",
   "execution_count": 26,
   "metadata": {},
   "outputs": [],
   "source": [
    "def bit_to_text(bit):\n",
    "    ba = bitarray.bitarray(bit.tolist())\n",
    "    r = ba.tobytes()\n",
    "    return  str(r,'utf8')"
   ]
  },
  {
   "cell_type": "code",
   "execution_count": 27,
   "metadata": {},
   "outputs": [],
   "source": [
    "#right now convert (0,1) array to (-1 , 1) array\n",
    "def b_to_c(array):\n",
    "    c_s = (array -1/2)*2\n",
    "    return c_s"
   ]
  },
  {
   "cell_type": "code",
   "execution_count": 28,
   "metadata": {},
   "outputs": [],
   "source": [
    "##### Design a transmitter that reads a text file and returns real-valued samples of an\n",
    "#information-bearing signal s[n].\n",
    "#arg text_file : an array of sended values\n",
    "const_size = 2\n",
    "def transmitter(text_file):\n",
    "    size = text_file.shape[0]\n",
    "    result = np.zeros(size*f_s)\n",
    "    for i in range(size):\n",
    "        result[f_s*i:f_s*(i+1)] = text_file[i]*basis()\n",
    "    return result"
   ]
  },
  {
   "cell_type": "code",
   "execution_count": 29,
   "metadata": {},
   "outputs": [],
   "source": [
    "string_text = \"Constantin\"\n",
    "constellation = b_to_c(text_to_bit(string_text))\n",
    "a = transmitter(constellation)"
   ]
  },
  {
   "cell_type": "code",
   "execution_count": 51,
   "metadata": {},
   "outputs": [],
   "source": [
    "training_sequence_start = np.cos(2*pi* 100* np.arange(1000)/f_s)\n",
    "training_sequence_end = np.cos(2*pi*200*np.arange(1000)/f_s)"
   ]
  },
  {
   "cell_type": "code",
   "execution_count": 52,
   "metadata": {},
   "outputs": [],
   "source": [
    "def fourier_transform(x, start, end):\n",
    "    nb_coef = end - start\n",
    "    result = np.zeros(nb_coef)\n",
    "    n = np.arange(x.shape[0])\n",
    "    for f in np.arange(start, end):\n",
    "        result[f - start] = np.abs(np.sum(x * np.exp(-2*1j*pi* f * (n/f_s))))\n",
    "    \n",
    "    return result"
   ]
  },
  {
   "cell_type": "code",
   "execution_count": 53,
   "metadata": {},
   "outputs": [],
   "source": [
    "a_training_sequence = np.concatenate((training_sequence_start, a, training_sequence_end), axis = 0)\n",
    "\n",
    "N = a_training_sequence.shape[0]\n",
    "n= np.arange(N)\n",
    "f0 = 2000\n",
    "a_training_sequence_shifted = (a_training_sequence*np.exp(1j *2 * pi * f0 * n/f_s)).real\n",
    "transformed_start = a_training_sequence_shifted[:1000]\n",
    "transformed_end = a_training_sequence_shifted[-1000:]"
   ]
  },
  {
   "cell_type": "code",
   "execution_count": 54,
   "metadata": {},
   "outputs": [],
   "source": [
    "np.savetxt('input.txt', a_training_sequence_shifted)"
   ]
  },
  {
   "cell_type": "code",
   "execution_count": 55,
   "metadata": {},
   "outputs": [],
   "source": [
    "!python3 client.py --input_file='input.txt' --output_file='output.txt' --srv_hostname=iscsrv72.epfl.ch --srv_port=80"
   ]
  },
  {
   "cell_type": "code",
   "execution_count": 56,
   "metadata": {},
   "outputs": [],
   "source": [
    "array_2 = np.loadtxt('output.txt')"
   ]
  },
  {
   "cell_type": "code",
   "execution_count": 37,
   "metadata": {},
   "outputs": [
    {
     "data": {
      "text/plain": [
       "[<matplotlib.lines.Line2D at 0x7f25cbe907f0>]"
      ]
     },
     "execution_count": 37,
     "metadata": {},
     "output_type": "execute_result"
    },
    {
     "data": {
      "image/png": "[encoded data removed]",
      "text/plain": [
       "<Figure size 432x288 with 1 Axes>"
      ]
     },
     "metadata": {
      "needs_background": "light"
     },
     "output_type": "display_data"
    }
   ],
   "source": [
    "plt.plot(array_2)"
   ]
  },
  {
   "cell_type": "code",
   "execution_count": 38,
   "metadata": {},
   "outputs": [],
   "source": [
    "convolution_start = np.convolve(array_2, np.flip(transformed_start), mode= 'same')\n",
    "convolution_end = np.convolve(array_2, np.flip(transformed_end), mode = 'same')"
   ]
  },
  {
   "cell_type": "code",
   "execution_count": 39,
   "metadata": {},
   "outputs": [],
   "source": [
    "norm_start = np.linalg.norm(transformed_start)\n",
    "norm_end = np.linalg.norm(transformed_end)"
   ]
  },
  {
   "cell_type": "code",
   "execution_count": 40,
   "metadata": {},
   "outputs": [],
   "source": [
    "convolved_norm_output = np.sqrt(np.convolve(array_2**2, np.ones(10000), mode = 'same'))"
   ]
  },
  {
   "cell_type": "code",
   "execution_count": 41,
   "metadata": {},
   "outputs": [],
   "source": [
    "start = np.argmax(convolution_start - norm_start*convolved_norm_output) + int(len(training_sequence_start)//2)\n",
    "end = np.argmax(convolution_end - norm_end*convolved_norm_output) - int(len(training_sequence_end) //2)\n",
    "array_2_processed = array_2[start-1000:end+1000] ##Just cancels the noisze but keep the training sequence\n",
    "\n",
    "N_2 = array_2_processed.shape[0]\n",
    "array_2_processed_reshifted = (array_2_processed * np.exp(1j * 2 * pi * f0 * np.arange(N_2)/f_s)).real\n",
    "\n",
    "array_2_pre_decode = array_2_processed_reshifted[1000:-1000] ##We delete the traning sequence"
   ]
  },
  {
   "cell_type": "code",
   "execution_count": 42,
   "metadata": {},
   "outputs": [
    {
     "name": "stdout",
     "output_type": "stream",
     "text": [
      "1778 1765778\n"
     ]
    }
   ],
   "source": [
    "print(start, end)"
   ]
  },
  {
   "cell_type": "code",
   "execution_count": 43,
   "metadata": {},
   "outputs": [],
   "source": [
    "def decode(array_2) : \n",
    "    size = 22050\n",
    "    result = np.zeros(len(constellation))\n",
    "    b = basis()\n",
    "    for i in range(len(constellation))  :\n",
    "        result[i] = np.sum(basis()*array_2_pre_decode[size*i: size*(i+1)])\n",
    "    return (np.sign(result)+1)/2"
   ]
  },
  {
   "cell_type": "code",
   "execution_count": 44,
   "metadata": {},
   "outputs": [
    {
     "name": "stdout",
     "output_type": "stream",
     "text": [
      "Constantin\n"
     ]
    }
   ],
   "source": [
    "d = decode(array_2_pre_decode)\n",
    "print(bit_to_text(d))"
   ]
  },
  {
   "cell_type": "code",
   "execution_count": 45,
   "metadata": {},
   "outputs": [
    {
     "name": "stdout",
     "output_type": "stream",
     "text": [
      "[-1.  1. -1. -1. -1. -1.  1.  1. -1.  1.  1. -1.  1.  1.  1.  1. -1.  1.\n",
      "  1. -1.  1.  1.  1. -1. -1.  1.  1.  1. -1. -1.  1.  1. -1.  1.  1.  1.\n",
      " -1.  1. -1. -1. -1.  1.  1. -1. -1. -1. -1.  1. -1.  1.  1. -1.  1.  1.\n",
      "  1. -1. -1.  1.  1.  1. -1.  1. -1. -1. -1.  1.  1. -1.  1. -1. -1.  1.\n",
      " -1.  1.  1. -1.  1.  1.  1. -1.]\n"
     ]
    }
   ],
   "source": [
    "print(constellation)"
   ]
  },
  {
   "cell_type": "code",
   "execution_count": 46,
   "metadata": {},
   "outputs": [],
   "source": [
    "def low_pass(arr, f_0):\n",
    "    T = 2*f_0\n",
    "    t = np.arange(-100,100)/f_s\n",
    "    sinc = T *np.sinc(T*t)\n",
    "    return np.convolve(arr, sinc, mode = 'same')"
   ]
  },
  {
   "cell_type": "code",
   "execution_count": 47,
   "metadata": {},
   "outputs": [
    {
     "data": {
      "image/png": "[encoded data removed]",
      "text/plain": [
       "<Figure size 432x288 with 1 Axes>"
      ]
     },
     "metadata": {
      "needs_background": "light"
     },
     "output_type": "display_data"
    }
   ],
   "source": [
    "  t = np.arange(-100,100)\n",
    "a = np.sinc(t)\n",
    "###plt.plot(fourier_transform(a, -100, 100))\n",
    "sp = np.fft.fft(np.sinc(t))\n",
    "freq = np.fft.fftfreq(t.shape[-1])\n",
    "plt.plot(freq, sp.real, freq, sp.imag)\n",
    "plt.show()"
   ]
  },
  {
   "cell_type": "code",
   "execution_count": 48,
   "metadata": {},
   "outputs": [
    {
     "data": {
      "text/plain": [
       "[<matplotlib.lines.Line2D at 0x7f25cbdf59e8>]"
      ]
     },
     "execution_count": 48,
     "metadata": {},
     "output_type": "execute_result"
    },
    {
     "data": {
      "image/png": "[encoded data removed]",
      "text/plain": [
       "<Figure size 432x288 with 1 Axes>"
      ]
     },
     "metadata": {
      "needs_background": "light"
     },
     "output_type": "display_data"
    }
   ],
   "source": [
    "r = low_pass(np.sinc(t), 500)\n",
    "plt.plot(fourier_transform(r, -100,100))"
   ]
  },
  {
   "cell_type": "markdown",
   "metadata": {},
   "source": [
    "Do we have to do a discretization of a continuous signal to send this array ? When you apply the noise, do you reconstruct it or apply it on the discrete signal.\n",
    "\n",
    "Do we us have to reconstruct a countinuous signal \n"
   ]
  },
  {
   "cell_type": "code",
   "execution_count": 31,
   "metadata": {},
   "outputs": [],
   "source": [
    "##### qam\n",
    "def qam(array):\n",
    "    pad_val = int(T//T_s)\n",
    "    int_size = pad_val + f_s\n",
    "    \n",
    "    loop_size = len(array)//2\n",
    "    \n",
    "    result = np.zeros(loop_size*int_size)\n",
    "    \n",
    "    for i in range(loop_size) : \n",
    "        r1 = array[2*i]*basis()\n",
    "        r1 =  np.pad(r1, (0,pad_val) ,'constant', constant_values = (0))\n",
    "        #need to pad to add 0 at the begining\n",
    "        \n",
    "        r2  = array[2*i+1]*basis()\n",
    "        r2 =  np.pad(r2, (pad_val,0) ,'constant', constant_values = (0))\n",
    "        r = r1+r2\n",
    "        result[i*int_size : (i+1)*int_size ] = r\n",
    "        \n",
    "    return result"
   ]
  },
  {
   "cell_type": "code",
   "execution_count": 33,
   "metadata": {},
   "outputs": [
    {
     "name": "stdout",
     "output_type": "stream",
     "text": [
      "44099\n"
     ]
    },
    {
     "data": {
      "text/plain": [
       "array([ 0.03001054,  0.0300142 ,  0.03001784, ..., -0.03001784,\n",
       "       -0.0300142 , -0.03001054])"
      ]
     },
     "execution_count": 33,
     "metadata": {},
     "output_type": "execute_result"
    }
   ],
   "source": [
    "a = [1,-1,1]\n",
    "qam(a)"
   ]
  },
  {
   "cell_type": "code",
   "execution_count": null,
   "metadata": {},
   "outputs": [],
   "source": []
  }
 ],
 "metadata": {
  "kernelspec": {
   "display_name": "Python 3",
   "language": "python",
   "name": "python3"
  },
  "language_info": {
   "codemirror_mode": {
    "name": "ipython",
    "version": 3
   },
   "file_extension": ".py",
   "mimetype": "text/x-python",
   "name": "python",
   "nbconvert_exporter": "python",
   "pygments_lexer": "ipython3",
   "version": "3.7.3"
  }
 },
 "nbformat": 4,
 "nbformat_minor": 2
}
